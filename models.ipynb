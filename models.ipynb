{
 "cells": [
  {
   "cell_type": "code",
   "execution_count": 1,
   "id": "4fb00158-ac3d-41ec-9e18-06f765f58060",
   "metadata": {},
   "outputs": [],
   "source": [
    "import tensorflow as tf\n",
    "import numpy as np\n",
    "import pandas as pd"
   ]
  },
  {
   "cell_type": "code",
   "execution_count": 4,
   "id": "b54caf28-016a-427b-83e4-919eb246458e",
   "metadata": {},
   "outputs": [],
   "source": [
    "data = pd.read_csv(\"data/processed_mbti.csv\")"
   ]
  },
  {
   "cell_type": "code",
   "execution_count": 5,
   "id": "70a9a3f5-b95b-4c0b-a8c9-1d3458167c9d",
   "metadata": {},
   "outputs": [
    {
     "data": {
      "text/html": [
       "<div>\n",
       "<style scoped>\n",
       "    .dataframe tbody tr th:only-of-type {\n",
       "        vertical-align: middle;\n",
       "    }\n",
       "\n",
       "    .dataframe tbody tr th {\n",
       "        vertical-align: top;\n",
       "    }\n",
       "\n",
       "    .dataframe thead th {\n",
       "        text-align: right;\n",
       "    }\n",
       "</style>\n",
       "<table border=\"1\" class=\"dataframe\">\n",
       "  <thead>\n",
       "    <tr style=\"text-align: right;\">\n",
       "      <th></th>\n",
       "      <th>I/E</th>\n",
       "      <th>N/S</th>\n",
       "      <th>T/F</th>\n",
       "      <th>J/P</th>\n",
       "      <th>processed_text</th>\n",
       "    </tr>\n",
       "  </thead>\n",
       "  <tbody>\n",
       "    <tr>\n",
       "      <th>0</th>\n",
       "      <td>1</td>\n",
       "      <td>1</td>\n",
       "      <td>0</td>\n",
       "      <td>1</td>\n",
       "      <td>moment sportscenter top ten play prankswhat li...</td>\n",
       "    </tr>\n",
       "    <tr>\n",
       "      <th>1</th>\n",
       "      <td>0</td>\n",
       "      <td>1</td>\n",
       "      <td>1</td>\n",
       "      <td>0</td>\n",
       "      <td>finding lack post alarming sex boring position...</td>\n",
       "    </tr>\n",
       "    <tr>\n",
       "      <th>2</th>\n",
       "      <td>1</td>\n",
       "      <td>1</td>\n",
       "      <td>1</td>\n",
       "      <td>0</td>\n",
       "      <td>good one course say know blessing curse absolu...</td>\n",
       "    </tr>\n",
       "    <tr>\n",
       "      <th>3</th>\n",
       "      <td>1</td>\n",
       "      <td>1</td>\n",
       "      <td>1</td>\n",
       "      <td>1</td>\n",
       "      <td>dear enjoyed conversation day esoteric gabbing...</td>\n",
       "    </tr>\n",
       "    <tr>\n",
       "      <th>4</th>\n",
       "      <td>0</td>\n",
       "      <td>1</td>\n",
       "      <td>1</td>\n",
       "      <td>1</td>\n",
       "      <td>fired another silly misconception approaching ...</td>\n",
       "    </tr>\n",
       "  </tbody>\n",
       "</table>\n",
       "</div>"
      ],
      "text/plain": [
       "   I/E  N/S  T/F  J/P                                     processed_text\n",
       "0    1    1    0    1  moment sportscenter top ten play prankswhat li...\n",
       "1    0    1    1    0  finding lack post alarming sex boring position...\n",
       "2    1    1    1    0  good one course say know blessing curse absolu...\n",
       "3    1    1    1    1  dear enjoyed conversation day esoteric gabbing...\n",
       "4    0    1    1    1  fired another silly misconception approaching ..."
      ]
     },
     "execution_count": 5,
     "metadata": {},
     "output_type": "execute_result"
    }
   ],
   "source": [
    "data.head()"
   ]
  },
  {
   "cell_type": "code",
   "execution_count": 6,
   "id": "a908d708-1a80-49e6-b85b-c2046ae7b82f",
   "metadata": {},
   "outputs": [
    {
     "name": "stdout",
     "output_type": "stream",
     "text": [
      "1\n",
      "processed_text\n",
      "<class 'str'>      8674\n",
      "<class 'float'>       1\n",
      "Name: count, dtype: int64\n",
      "0\n",
      "processed_text\n",
      "<class 'str'>    8675\n",
      "Name: count, dtype: int64\n"
     ]
    }
   ],
   "source": [
    "print(data.processed_text.isna().sum())  # Count of NaN values\n",
    "print(data.processed_text.apply(type).value_counts())  # Types present\n",
    "\n",
    "data['processed_text'] = data['processed_text'].fillna(\"\")  # Replace NaN with empty strings\n",
    "data['processed_text'] = data['processed_text'].astype(str)  # Convert all to strings\n",
    "\n",
    "print(data.processed_text.isna().sum())  # Count of NaN values\n",
    "print(data.processed_text.apply(type).value_counts())  # Types present"
   ]
  },
  {
   "cell_type": "code",
   "execution_count": 7,
   "id": "da394f2d-32a9-4b1f-862f-1c00371d213e",
   "metadata": {},
   "outputs": [
    {
     "name": "stdout",
     "output_type": "stream",
     "text": [
      "<class 'pandas.core.frame.DataFrame'>\n",
      "RangeIndex: 8675 entries, 0 to 8674\n",
      "Data columns (total 5 columns):\n",
      " #   Column          Non-Null Count  Dtype \n",
      "---  ------          --------------  ----- \n",
      " 0   I/E             8675 non-null   int64 \n",
      " 1   N/S             8675 non-null   int64 \n",
      " 2   T/F             8675 non-null   int64 \n",
      " 3   J/P             8675 non-null   int64 \n",
      " 4   processed_text  8675 non-null   object\n",
      "dtypes: int64(4), object(1)\n",
      "memory usage: 339.0+ KB\n"
     ]
    }
   ],
   "source": [
    "data.info()"
   ]
  },
  {
   "cell_type": "code",
   "execution_count": 8,
   "id": "b2ad60de-20be-4530-8a9b-b1b5e38ce4ba",
   "metadata": {},
   "outputs": [],
   "source": [
    "text = data.processed_text.astype(\"string\")\n",
    "labels = data[[\"I/E\", \"N/S\", \"T/F\", \"J/P\"]]"
   ]
  },
  {
   "cell_type": "code",
   "execution_count": 9,
   "id": "9ea74634-44e7-4086-829d-444bc3d853e1",
   "metadata": {},
   "outputs": [],
   "source": [
    "from sklearn.model_selection import train_test_split\n",
    "\n",
    "X_train_full, X_test, y_train_full, y_test = train_test_split(text, labels, random_state = 42)\n",
    "X_train, X_val, y_train, y_val = train_test_split(X_train_full, y_train_full, random_state = 42)"
   ]
  },
  {
   "cell_type": "code",
   "execution_count": 10,
   "id": "72771656-9627-4449-aec0-d3aaabca4320",
   "metadata": {},
   "outputs": [
    {
     "data": {
      "text/plain": [
       "((4879,), (4879, 4), (1627,), (1627, 4))"
      ]
     },
     "execution_count": 10,
     "metadata": {},
     "output_type": "execute_result"
    }
   ],
   "source": [
    "X_train.shape, y_train.shape, X_val.shape, y_val.shape"
   ]
  },
  {
   "cell_type": "code",
   "execution_count": 11,
   "id": "cca8ed42-a0f5-4acc-ae37-3fb12fe50966",
   "metadata": {},
   "outputs": [
    {
     "name": "stdout",
     "output_type": "stream",
     "text": [
      "<class 'pandas.core.series.Series'>\n",
      "Index: 4879 entries, 7978 to 8342\n",
      "Series name: processed_text\n",
      "Non-Null Count  Dtype \n",
      "--------------  ----- \n",
      "4879 non-null   string\n",
      "dtypes: string(1)\n",
      "memory usage: 76.2 KB\n",
      "<class 'pandas.core.frame.DataFrame'>\n",
      "Index: 4879 entries, 7978 to 8342\n",
      "Data columns (total 4 columns):\n",
      " #   Column  Non-Null Count  Dtype\n",
      "---  ------  --------------  -----\n",
      " 0   I/E     4879 non-null   int64\n",
      " 1   N/S     4879 non-null   int64\n",
      " 2   T/F     4879 non-null   int64\n",
      " 3   J/P     4879 non-null   int64\n",
      "dtypes: int64(4)\n",
      "memory usage: 190.6 KB\n"
     ]
    },
    {
     "data": {
      "text/plain": [
       "(None, None)"
      ]
     },
     "execution_count": 11,
     "metadata": {},
     "output_type": "execute_result"
    }
   ],
   "source": [
    "X_train.info(), y_train.info()"
   ]
  },
  {
   "cell_type": "code",
   "execution_count": 12,
   "id": "77fa5cae-6c21-4a67-977a-8cc8bf927a70",
   "metadata": {},
   "outputs": [
    {
     "name": "stdout",
     "output_type": "stream",
     "text": [
      "string\n"
     ]
    }
   ],
   "source": [
    "print(X_train.dtypes)"
   ]
  },
  {
   "cell_type": "code",
   "execution_count": 13,
   "id": "d70275fc-ff19-4d42-90b2-37bdc6e2b484",
   "metadata": {},
   "outputs": [],
   "source": [
    "from tensorflow.keras.layers import Embedding, Bidirectional, LSTM, Dropout, Dense, Input\n",
    "from tensorflow.keras.callbacks import EarlyStopping\n",
    "\n",
    "embedding_dim = 128\n",
    "max_tokens = 10_000\n",
    "\n",
    "vectorizer = tf.keras.layers.TextVectorization(\n",
    "    max_tokens = 10_000,\n",
    "    output_mode = 'int',\n",
    "    output_sequence_length = 250\n",
    ")\n",
    "\n",
    "vectorizer.adapt(data.processed_text)\n",
    "\n",
    "# Input layer\n",
    "input_layer = Input(shape=(1,), dtype=\"string\", name='input_text')\n",
    "\n",
    "# Vectorizer layer\n",
    "x = vectorizer(input_layer)\n",
    "\n",
    "# Shared layers\n",
    "x = Embedding(input_dim = max_tokens, output_dim = embedding_dim)(x)\n",
    "x = Bidirectional(LSTM(200, return_sequences=True, dropout=0.2, recurrent_dropout=0.2))(x)\n",
    "x = Dropout(0.2)(x)\n",
    "x = Bidirectional(LSTM(32, dropout=0.2, recurrent_dropout=0.2))(x)\n",
    "x = Dropout(0.2)(x)\n",
    "x = Dense(20, activation=\"relu\", kernel_initializer='he_normal')(x)\n",
    "\n",
    "# Separate outputs\n",
    "output_IE = Dense(1, activation='sigmoid', name='IE_output')(x)\n",
    "output_NS = Dense(1, activation='sigmoid', name='NS_output')(x)\n",
    "output_TF = Dense(1, activation='sigmoid', name='TF_output')(x)\n",
    "output_JP = Dense(1, activation='sigmoid', name='JP_output')(x)\n",
    "\n",
    "\n",
    "model = tf.keras.Model(inputs=input_layer, outputs=[output_IE, output_NS, output_TF, output_JP])"
   ]
  },
  {
   "cell_type": "code",
   "execution_count": 14,
   "id": "dceaefc4-e4c4-4741-94e6-9ac68f06bf60",
   "metadata": {},
   "outputs": [
    {
     "data": {
      "text/html": [
       "<pre style=\"white-space:pre;overflow-x:auto;line-height:normal;font-family:Menlo,'DejaVu Sans Mono',consolas,'Courier New',monospace\"><span style=\"font-weight: bold\">Model: \"functional\"</span>\n",
       "</pre>\n"
      ],
      "text/plain": [
       "\u001b[1mModel: \"functional\"\u001b[0m\n"
      ]
     },
     "metadata": {},
     "output_type": "display_data"
    },
    {
     "data": {
      "text/html": [
       "<pre style=\"white-space:pre;overflow-x:auto;line-height:normal;font-family:Menlo,'DejaVu Sans Mono',consolas,'Courier New',monospace\">┏━━━━━━━━━━━━━━━━━━━━━┳━━━━━━━━━━━━━━━━━━━┳━━━━━━━━━━━━┳━━━━━━━━━━━━━━━━━━━┓\n",
       "┃<span style=\"font-weight: bold\"> Layer (type)        </span>┃<span style=\"font-weight: bold\"> Output Shape      </span>┃<span style=\"font-weight: bold\">    Param # </span>┃<span style=\"font-weight: bold\"> Connected to      </span>┃\n",
       "┡━━━━━━━━━━━━━━━━━━━━━╇━━━━━━━━━━━━━━━━━━━╇━━━━━━━━━━━━╇━━━━━━━━━━━━━━━━━━━┩\n",
       "│ input_text          │ (<span style=\"color: #00d7ff; text-decoration-color: #00d7ff\">None</span>, <span style=\"color: #00af00; text-decoration-color: #00af00\">1</span>)         │          <span style=\"color: #00af00; text-decoration-color: #00af00\">0</span> │ -                 │\n",
       "│ (<span style=\"color: #0087ff; text-decoration-color: #0087ff\">InputLayer</span>)        │                   │            │                   │\n",
       "├─────────────────────┼───────────────────┼────────────┼───────────────────┤\n",
       "│ text_vectorization  │ (<span style=\"color: #00d7ff; text-decoration-color: #00d7ff\">None</span>, <span style=\"color: #00af00; text-decoration-color: #00af00\">250</span>)       │          <span style=\"color: #00af00; text-decoration-color: #00af00\">0</span> │ input_text[<span style=\"color: #00af00; text-decoration-color: #00af00\">0</span>][<span style=\"color: #00af00; text-decoration-color: #00af00\">0</span>]  │\n",
       "│ (<span style=\"color: #0087ff; text-decoration-color: #0087ff\">TextVectorization</span>) │                   │            │                   │\n",
       "├─────────────────────┼───────────────────┼────────────┼───────────────────┤\n",
       "│ embedding           │ (<span style=\"color: #00d7ff; text-decoration-color: #00d7ff\">None</span>, <span style=\"color: #00af00; text-decoration-color: #00af00\">250</span>, <span style=\"color: #00af00; text-decoration-color: #00af00\">128</span>)  │  <span style=\"color: #00af00; text-decoration-color: #00af00\">1,280,000</span> │ text_vectorizati… │\n",
       "│ (<span style=\"color: #0087ff; text-decoration-color: #0087ff\">Embedding</span>)         │                   │            │                   │\n",
       "├─────────────────────┼───────────────────┼────────────┼───────────────────┤\n",
       "│ bidirectional       │ (<span style=\"color: #00d7ff; text-decoration-color: #00d7ff\">None</span>, <span style=\"color: #00af00; text-decoration-color: #00af00\">250</span>, <span style=\"color: #00af00; text-decoration-color: #00af00\">400</span>)  │    <span style=\"color: #00af00; text-decoration-color: #00af00\">526,400</span> │ embedding[<span style=\"color: #00af00; text-decoration-color: #00af00\">0</span>][<span style=\"color: #00af00; text-decoration-color: #00af00\">0</span>]   │\n",
       "│ (<span style=\"color: #0087ff; text-decoration-color: #0087ff\">Bidirectional</span>)     │                   │            │                   │\n",
       "├─────────────────────┼───────────────────┼────────────┼───────────────────┤\n",
       "│ dropout (<span style=\"color: #0087ff; text-decoration-color: #0087ff\">Dropout</span>)   │ (<span style=\"color: #00d7ff; text-decoration-color: #00d7ff\">None</span>, <span style=\"color: #00af00; text-decoration-color: #00af00\">250</span>, <span style=\"color: #00af00; text-decoration-color: #00af00\">400</span>)  │          <span style=\"color: #00af00; text-decoration-color: #00af00\">0</span> │ bidirectional[<span style=\"color: #00af00; text-decoration-color: #00af00\">0</span>]… │\n",
       "├─────────────────────┼───────────────────┼────────────┼───────────────────┤\n",
       "│ bidirectional_1     │ (<span style=\"color: #00d7ff; text-decoration-color: #00d7ff\">None</span>, <span style=\"color: #00af00; text-decoration-color: #00af00\">64</span>)        │    <span style=\"color: #00af00; text-decoration-color: #00af00\">110,848</span> │ dropout[<span style=\"color: #00af00; text-decoration-color: #00af00\">0</span>][<span style=\"color: #00af00; text-decoration-color: #00af00\">0</span>]     │\n",
       "│ (<span style=\"color: #0087ff; text-decoration-color: #0087ff\">Bidirectional</span>)     │                   │            │                   │\n",
       "├─────────────────────┼───────────────────┼────────────┼───────────────────┤\n",
       "│ dropout_1 (<span style=\"color: #0087ff; text-decoration-color: #0087ff\">Dropout</span>) │ (<span style=\"color: #00d7ff; text-decoration-color: #00d7ff\">None</span>, <span style=\"color: #00af00; text-decoration-color: #00af00\">64</span>)        │          <span style=\"color: #00af00; text-decoration-color: #00af00\">0</span> │ bidirectional_1[<span style=\"color: #00af00; text-decoration-color: #00af00\">…</span> │\n",
       "├─────────────────────┼───────────────────┼────────────┼───────────────────┤\n",
       "│ dense (<span style=\"color: #0087ff; text-decoration-color: #0087ff\">Dense</span>)       │ (<span style=\"color: #00d7ff; text-decoration-color: #00d7ff\">None</span>, <span style=\"color: #00af00; text-decoration-color: #00af00\">20</span>)        │      <span style=\"color: #00af00; text-decoration-color: #00af00\">1,300</span> │ dropout_1[<span style=\"color: #00af00; text-decoration-color: #00af00\">0</span>][<span style=\"color: #00af00; text-decoration-color: #00af00\">0</span>]   │\n",
       "├─────────────────────┼───────────────────┼────────────┼───────────────────┤\n",
       "│ IE_output (<span style=\"color: #0087ff; text-decoration-color: #0087ff\">Dense</span>)   │ (<span style=\"color: #00d7ff; text-decoration-color: #00d7ff\">None</span>, <span style=\"color: #00af00; text-decoration-color: #00af00\">1</span>)         │         <span style=\"color: #00af00; text-decoration-color: #00af00\">21</span> │ dense[<span style=\"color: #00af00; text-decoration-color: #00af00\">0</span>][<span style=\"color: #00af00; text-decoration-color: #00af00\">0</span>]       │\n",
       "├─────────────────────┼───────────────────┼────────────┼───────────────────┤\n",
       "│ NS_output (<span style=\"color: #0087ff; text-decoration-color: #0087ff\">Dense</span>)   │ (<span style=\"color: #00d7ff; text-decoration-color: #00d7ff\">None</span>, <span style=\"color: #00af00; text-decoration-color: #00af00\">1</span>)         │         <span style=\"color: #00af00; text-decoration-color: #00af00\">21</span> │ dense[<span style=\"color: #00af00; text-decoration-color: #00af00\">0</span>][<span style=\"color: #00af00; text-decoration-color: #00af00\">0</span>]       │\n",
       "├─────────────────────┼───────────────────┼────────────┼───────────────────┤\n",
       "│ TF_output (<span style=\"color: #0087ff; text-decoration-color: #0087ff\">Dense</span>)   │ (<span style=\"color: #00d7ff; text-decoration-color: #00d7ff\">None</span>, <span style=\"color: #00af00; text-decoration-color: #00af00\">1</span>)         │         <span style=\"color: #00af00; text-decoration-color: #00af00\">21</span> │ dense[<span style=\"color: #00af00; text-decoration-color: #00af00\">0</span>][<span style=\"color: #00af00; text-decoration-color: #00af00\">0</span>]       │\n",
       "├─────────────────────┼───────────────────┼────────────┼───────────────────┤\n",
       "│ JP_output (<span style=\"color: #0087ff; text-decoration-color: #0087ff\">Dense</span>)   │ (<span style=\"color: #00d7ff; text-decoration-color: #00d7ff\">None</span>, <span style=\"color: #00af00; text-decoration-color: #00af00\">1</span>)         │         <span style=\"color: #00af00; text-decoration-color: #00af00\">21</span> │ dense[<span style=\"color: #00af00; text-decoration-color: #00af00\">0</span>][<span style=\"color: #00af00; text-decoration-color: #00af00\">0</span>]       │\n",
       "└─────────────────────┴───────────────────┴────────────┴───────────────────┘\n",
       "</pre>\n"
      ],
      "text/plain": [
       "┏━━━━━━━━━━━━━━━━━━━━━┳━━━━━━━━━━━━━━━━━━━┳━━━━━━━━━━━━┳━━━━━━━━━━━━━━━━━━━┓\n",
       "┃\u001b[1m \u001b[0m\u001b[1mLayer (type)       \u001b[0m\u001b[1m \u001b[0m┃\u001b[1m \u001b[0m\u001b[1mOutput Shape     \u001b[0m\u001b[1m \u001b[0m┃\u001b[1m \u001b[0m\u001b[1m   Param #\u001b[0m\u001b[1m \u001b[0m┃\u001b[1m \u001b[0m\u001b[1mConnected to     \u001b[0m\u001b[1m \u001b[0m┃\n",
       "┡━━━━━━━━━━━━━━━━━━━━━╇━━━━━━━━━━━━━━━━━━━╇━━━━━━━━━━━━╇━━━━━━━━━━━━━━━━━━━┩\n",
       "│ input_text          │ (\u001b[38;5;45mNone\u001b[0m, \u001b[38;5;34m1\u001b[0m)         │          \u001b[38;5;34m0\u001b[0m │ -                 │\n",
       "│ (\u001b[38;5;33mInputLayer\u001b[0m)        │                   │            │                   │\n",
       "├─────────────────────┼───────────────────┼────────────┼───────────────────┤\n",
       "│ text_vectorization  │ (\u001b[38;5;45mNone\u001b[0m, \u001b[38;5;34m250\u001b[0m)       │          \u001b[38;5;34m0\u001b[0m │ input_text[\u001b[38;5;34m0\u001b[0m][\u001b[38;5;34m0\u001b[0m]  │\n",
       "│ (\u001b[38;5;33mTextVectorization\u001b[0m) │                   │            │                   │\n",
       "├─────────────────────┼───────────────────┼────────────┼───────────────────┤\n",
       "│ embedding           │ (\u001b[38;5;45mNone\u001b[0m, \u001b[38;5;34m250\u001b[0m, \u001b[38;5;34m128\u001b[0m)  │  \u001b[38;5;34m1,280,000\u001b[0m │ text_vectorizati… │\n",
       "│ (\u001b[38;5;33mEmbedding\u001b[0m)         │                   │            │                   │\n",
       "├─────────────────────┼───────────────────┼────────────┼───────────────────┤\n",
       "│ bidirectional       │ (\u001b[38;5;45mNone\u001b[0m, \u001b[38;5;34m250\u001b[0m, \u001b[38;5;34m400\u001b[0m)  │    \u001b[38;5;34m526,400\u001b[0m │ embedding[\u001b[38;5;34m0\u001b[0m][\u001b[38;5;34m0\u001b[0m]   │\n",
       "│ (\u001b[38;5;33mBidirectional\u001b[0m)     │                   │            │                   │\n",
       "├─────────────────────┼───────────────────┼────────────┼───────────────────┤\n",
       "│ dropout (\u001b[38;5;33mDropout\u001b[0m)   │ (\u001b[38;5;45mNone\u001b[0m, \u001b[38;5;34m250\u001b[0m, \u001b[38;5;34m400\u001b[0m)  │          \u001b[38;5;34m0\u001b[0m │ bidirectional[\u001b[38;5;34m0\u001b[0m]… │\n",
       "├─────────────────────┼───────────────────┼────────────┼───────────────────┤\n",
       "│ bidirectional_1     │ (\u001b[38;5;45mNone\u001b[0m, \u001b[38;5;34m64\u001b[0m)        │    \u001b[38;5;34m110,848\u001b[0m │ dropout[\u001b[38;5;34m0\u001b[0m][\u001b[38;5;34m0\u001b[0m]     │\n",
       "│ (\u001b[38;5;33mBidirectional\u001b[0m)     │                   │            │                   │\n",
       "├─────────────────────┼───────────────────┼────────────┼───────────────────┤\n",
       "│ dropout_1 (\u001b[38;5;33mDropout\u001b[0m) │ (\u001b[38;5;45mNone\u001b[0m, \u001b[38;5;34m64\u001b[0m)        │          \u001b[38;5;34m0\u001b[0m │ bidirectional_1[\u001b[38;5;34m…\u001b[0m │\n",
       "├─────────────────────┼───────────────────┼────────────┼───────────────────┤\n",
       "│ dense (\u001b[38;5;33mDense\u001b[0m)       │ (\u001b[38;5;45mNone\u001b[0m, \u001b[38;5;34m20\u001b[0m)        │      \u001b[38;5;34m1,300\u001b[0m │ dropout_1[\u001b[38;5;34m0\u001b[0m][\u001b[38;5;34m0\u001b[0m]   │\n",
       "├─────────────────────┼───────────────────┼────────────┼───────────────────┤\n",
       "│ IE_output (\u001b[38;5;33mDense\u001b[0m)   │ (\u001b[38;5;45mNone\u001b[0m, \u001b[38;5;34m1\u001b[0m)         │         \u001b[38;5;34m21\u001b[0m │ dense[\u001b[38;5;34m0\u001b[0m][\u001b[38;5;34m0\u001b[0m]       │\n",
       "├─────────────────────┼───────────────────┼────────────┼───────────────────┤\n",
       "│ NS_output (\u001b[38;5;33mDense\u001b[0m)   │ (\u001b[38;5;45mNone\u001b[0m, \u001b[38;5;34m1\u001b[0m)         │         \u001b[38;5;34m21\u001b[0m │ dense[\u001b[38;5;34m0\u001b[0m][\u001b[38;5;34m0\u001b[0m]       │\n",
       "├─────────────────────┼───────────────────┼────────────┼───────────────────┤\n",
       "│ TF_output (\u001b[38;5;33mDense\u001b[0m)   │ (\u001b[38;5;45mNone\u001b[0m, \u001b[38;5;34m1\u001b[0m)         │         \u001b[38;5;34m21\u001b[0m │ dense[\u001b[38;5;34m0\u001b[0m][\u001b[38;5;34m0\u001b[0m]       │\n",
       "├─────────────────────┼───────────────────┼────────────┼───────────────────┤\n",
       "│ JP_output (\u001b[38;5;33mDense\u001b[0m)   │ (\u001b[38;5;45mNone\u001b[0m, \u001b[38;5;34m1\u001b[0m)         │         \u001b[38;5;34m21\u001b[0m │ dense[\u001b[38;5;34m0\u001b[0m][\u001b[38;5;34m0\u001b[0m]       │\n",
       "└─────────────────────┴───────────────────┴────────────┴───────────────────┘\n"
      ]
     },
     "metadata": {},
     "output_type": "display_data"
    },
    {
     "data": {
      "text/html": [
       "<pre style=\"white-space:pre;overflow-x:auto;line-height:normal;font-family:Menlo,'DejaVu Sans Mono',consolas,'Courier New',monospace\"><span style=\"font-weight: bold\"> Total params: </span><span style=\"color: #00af00; text-decoration-color: #00af00\">1,918,632</span> (7.32 MB)\n",
       "</pre>\n"
      ],
      "text/plain": [
       "\u001b[1m Total params: \u001b[0m\u001b[38;5;34m1,918,632\u001b[0m (7.32 MB)\n"
      ]
     },
     "metadata": {},
     "output_type": "display_data"
    },
    {
     "data": {
      "text/html": [
       "<pre style=\"white-space:pre;overflow-x:auto;line-height:normal;font-family:Menlo,'DejaVu Sans Mono',consolas,'Courier New',monospace\"><span style=\"font-weight: bold\"> Trainable params: </span><span style=\"color: #00af00; text-decoration-color: #00af00\">1,918,632</span> (7.32 MB)\n",
       "</pre>\n"
      ],
      "text/plain": [
       "\u001b[1m Trainable params: \u001b[0m\u001b[38;5;34m1,918,632\u001b[0m (7.32 MB)\n"
      ]
     },
     "metadata": {},
     "output_type": "display_data"
    },
    {
     "data": {
      "text/html": [
       "<pre style=\"white-space:pre;overflow-x:auto;line-height:normal;font-family:Menlo,'DejaVu Sans Mono',consolas,'Courier New',monospace\"><span style=\"font-weight: bold\"> Non-trainable params: </span><span style=\"color: #00af00; text-decoration-color: #00af00\">0</span> (0.00 B)\n",
       "</pre>\n"
      ],
      "text/plain": [
       "\u001b[1m Non-trainable params: \u001b[0m\u001b[38;5;34m0\u001b[0m (0.00 B)\n"
      ]
     },
     "metadata": {},
     "output_type": "display_data"
    }
   ],
   "source": [
    "model.summary()"
   ]
  },
  {
   "cell_type": "code",
   "execution_count": 15,
   "id": "1fd9ddea-ecb9-4127-9acf-33a8aa8d96ea",
   "metadata": {},
   "outputs": [],
   "source": [
    "model.compile(\n",
    "    optimizer='adam',\n",
    "    loss='binary_crossentropy',\n",
    "    metrics={'IE_output': 'accuracy',\n",
    "             'NS_output': 'accuracy',\n",
    "             'TF_output': 'accuracy',\n",
    "             'JP_output': 'accuracy'}\n",
    ")"
   ]
  },
  {
   "cell_type": "code",
   "execution_count": 16,
   "id": "b9f49bc2-858b-41fc-96f6-f8679d375ede",
   "metadata": {},
   "outputs": [
    {
     "data": {
      "text/plain": [
       "7978    1\n",
       "2566    1\n",
       "1360    1\n",
       "2086    1\n",
       "1964    1\n",
       "       ..\n",
       "163     0\n",
       "4895    0\n",
       "989     0\n",
       "950     1\n",
       "8342    1\n",
       "Name: I/E, Length: 4879, dtype: int64"
      ]
     },
     "execution_count": 16,
     "metadata": {},
     "output_type": "execute_result"
    }
   ],
   "source": [
    "y_train.iloc[:,0]"
   ]
  },
  {
   "cell_type": "code",
   "execution_count": 17,
   "id": "ec6e3fea-b6a0-4bfe-9f64-4b6a6e1011cf",
   "metadata": {},
   "outputs": [
    {
     "name": "stdout",
     "output_type": "stream",
     "text": [
      "Epoch 1/20\n",
      "\u001b[1m153/153\u001b[0m \u001b[32m━━━━━━━━━━━━━━━━━━━━\u001b[0m\u001b[37m\u001b[0m \u001b[1m84s\u001b[0m 526ms/step - IE_output_accuracy: 0.7494 - IE_output_loss: 0.5796 - JP_output_accuracy: 0.6063 - JP_output_loss: 0.6796 - NS_output_accuracy: 0.8580 - NS_output_loss: 0.4518 - TF_output_accuracy: 0.5093 - TF_output_loss: 0.6958 - loss: 2.4068 - val_IE_output_accuracy: 0.7615 - val_IE_output_loss: 0.5496 - val_JP_output_accuracy: 0.5864 - val_JP_output_loss: 0.6781 - val_NS_output_accuracy: 0.8556 - val_NS_output_loss: 0.4207 - val_TF_output_accuracy: 0.5433 - val_TF_output_loss: 0.6858 - val_loss: 2.3336\n",
      "Epoch 2/20\n",
      "\u001b[1m153/153\u001b[0m \u001b[32m━━━━━━━━━━━━━━━━━━━━\u001b[0m\u001b[37m\u001b[0m \u001b[1m86s\u001b[0m 558ms/step - IE_output_accuracy: 0.7514 - IE_output_loss: 0.5413 - JP_output_accuracy: 0.6131 - JP_output_loss: 0.6632 - NS_output_accuracy: 0.8631 - NS_output_loss: 0.3716 - TF_output_accuracy: 0.6243 - TF_output_loss: 0.6482 - loss: 2.2243 - val_IE_output_accuracy: 0.7609 - val_IE_output_loss: 0.5523 - val_JP_output_accuracy: 0.5900 - val_JP_output_loss: 0.6759 - val_NS_output_accuracy: 0.8556 - val_NS_output_loss: 0.4155 - val_TF_output_accuracy: 0.5845 - val_TF_output_loss: 0.6776 - val_loss: 2.3209\n",
      "Epoch 3/20\n",
      "\u001b[1m153/153\u001b[0m \u001b[32m━━━━━━━━━━━━━━━━━━━━\u001b[0m\u001b[37m\u001b[0m \u001b[1m92s\u001b[0m 603ms/step - IE_output_accuracy: 0.7723 - IE_output_loss: 0.4890 - JP_output_accuracy: 0.5987 - JP_output_loss: 0.6728 - NS_output_accuracy: 0.8594 - NS_output_loss: 0.3448 - TF_output_accuracy: 0.6600 - TF_output_loss: 0.6272 - loss: 2.1338 - val_IE_output_accuracy: 0.7541 - val_IE_output_loss: 0.5851 - val_JP_output_accuracy: 0.5876 - val_JP_output_loss: 0.6808 - val_NS_output_accuracy: 0.8537 - val_NS_output_loss: 0.4579 - val_TF_output_accuracy: 0.6134 - val_TF_output_loss: 0.6688 - val_loss: 2.3922\n",
      "Epoch 4/20\n",
      "\u001b[1m153/153\u001b[0m \u001b[32m━━━━━━━━━━━━━━━━━━━━\u001b[0m\u001b[37m\u001b[0m \u001b[1m95s\u001b[0m 623ms/step - IE_output_accuracy: 0.8190 - IE_output_loss: 0.3944 - JP_output_accuracy: 0.6173 - JP_output_loss: 0.6513 - NS_output_accuracy: 0.8743 - NS_output_loss: 0.2776 - TF_output_accuracy: 0.7659 - TF_output_loss: 0.4965 - loss: 1.8199 - val_IE_output_accuracy: 0.7136 - val_IE_output_loss: 0.6653 - val_JP_output_accuracy: 0.5734 - val_JP_output_loss: 0.6880 - val_NS_output_accuracy: 0.8470 - val_NS_output_loss: 0.5015 - val_TF_output_accuracy: 0.6079 - val_TF_output_loss: 0.7210 - val_loss: 2.5755\n",
      "Epoch 5/20\n",
      "\u001b[1m153/153\u001b[0m \u001b[32m━━━━━━━━━━━━━━━━━━━━\u001b[0m\u001b[37m\u001b[0m \u001b[1m93s\u001b[0m 611ms/step - IE_output_accuracy: 0.8867 - IE_output_loss: 0.2836 - JP_output_accuracy: 0.6511 - JP_output_loss: 0.6159 - NS_output_accuracy: 0.9074 - NS_output_loss: 0.2113 - TF_output_accuracy: 0.8451 - TF_output_loss: 0.3518 - loss: 1.4626 - val_IE_output_accuracy: 0.6829 - val_IE_output_loss: 0.7077 - val_JP_output_accuracy: 0.5452 - val_JP_output_loss: 0.7113 - val_NS_output_accuracy: 0.7947 - val_NS_output_loss: 0.5366 - val_TF_output_accuracy: 0.6109 - val_TF_output_loss: 0.8054 - val_loss: 2.7613\n",
      "Epoch 6/20\n",
      "\u001b[1m153/153\u001b[0m \u001b[32m━━━━━━━━━━━━━━━━━━━━\u001b[0m\u001b[37m\u001b[0m \u001b[1m92s\u001b[0m 603ms/step - IE_output_accuracy: 0.9226 - IE_output_loss: 0.2119 - JP_output_accuracy: 0.7265 - JP_output_loss: 0.5403 - NS_output_accuracy: 0.9413 - NS_output_loss: 0.1576 - TF_output_accuracy: 0.9078 - TF_output_loss: 0.2408 - loss: 1.1506 - val_IE_output_accuracy: 0.6908 - val_IE_output_loss: 0.8749 - val_JP_output_accuracy: 0.5513 - val_JP_output_loss: 0.7898 - val_NS_output_accuracy: 0.7880 - val_NS_output_loss: 0.6657 - val_TF_output_accuracy: 0.6281 - val_TF_output_loss: 0.9747 - val_loss: 3.3043\n",
      "Epoch 7/20\n",
      "\u001b[1m153/153\u001b[0m \u001b[32m━━━━━━━━━━━━━━━━━━━━\u001b[0m\u001b[37m\u001b[0m \u001b[1m91s\u001b[0m 594ms/step - IE_output_accuracy: 0.9417 - IE_output_loss: 0.1570 - JP_output_accuracy: 0.8226 - JP_output_loss: 0.4102 - NS_output_accuracy: 0.9568 - NS_output_loss: 0.1160 - TF_output_accuracy: 0.9382 - TF_output_loss: 0.1648 - loss: 0.8480 - val_IE_output_accuracy: 0.6841 - val_IE_output_loss: 0.9973 - val_JP_output_accuracy: 0.5704 - val_JP_output_loss: 0.9061 - val_NS_output_accuracy: 0.8082 - val_NS_output_loss: 0.7560 - val_TF_output_accuracy: 0.6195 - val_TF_output_loss: 1.1631 - val_loss: 3.8220\n"
     ]
    }
   ],
   "source": [
    "# Early stopping\n",
    "early_stopping = EarlyStopping(monitor='val_loss', patience=5, restore_best_weights=True)\n",
    "\n",
    "# Training labels for multiple outputs\n",
    "train_labels = {'IE_output': y_train.iloc[:, 0],\n",
    "                'NS_output': y_train.iloc[:, 1],\n",
    "                'TF_output': y_train.iloc[:, 2],\n",
    "                'JP_output': y_train.iloc[:, 3]}\n",
    "\n",
    "val_labels = {'IE_output': y_val.iloc[:, 0],\n",
    "               'NS_output': y_val.iloc[:, 1],\n",
    "               'TF_output': y_val.iloc[:, 2],\n",
    "               'JP_output': y_val.iloc[:, 3]}\n",
    "\n",
    "\n",
    "# Train the model\n",
    "history = model.fit(\n",
    "    X_train, train_labels,\n",
    "    validation_data=(X_val, val_labels),\n",
    "    batch_size=32,\n",
    "    epochs=20,\n",
    "    callbacks=[early_stopping]\n",
    ")"
   ]
  },
  {
   "cell_type": "code",
   "execution_count": 18,
   "id": "5f4751e3-aecc-4dfd-a488-4e3ac79f1826",
   "metadata": {},
   "outputs": [
    {
     "name": "stdout",
     "output_type": "stream",
     "text": [
      "\u001b[1m68/68\u001b[0m \u001b[32m━━━━━━━━━━━━━━━━━━━━\u001b[0m\u001b[37m\u001b[0m \u001b[1m11s\u001b[0m 166ms/step - IE_output_accuracy: 0.7840 - IE_output_loss: 0.5270 - JP_output_accuracy: 0.6313 - JP_output_loss: 0.6636 - NS_output_accuracy: 0.8576 - NS_output_loss: 0.4170 - TF_output_accuracy: 0.5743 - TF_output_loss: 0.6786 - loss: 2.2861\n"
     ]
    },
    {
     "data": {
      "text/plain": [
       "[2.28859281539917,\n",
       " 0.5259314179420471,\n",
       " 0.4135143756866455,\n",
       " 0.680133581161499,\n",
       " 0.6687912940979004,\n",
       " 0.7833102941513062,\n",
       " 0.6118026971817017,\n",
       " 0.8584601283073425,\n",
       " 0.5758414268493652]"
      ]
     },
     "execution_count": 18,
     "metadata": {},
     "output_type": "execute_result"
    }
   ],
   "source": [
    "test_labels = {'IE_output': y_test.iloc[:, 0],\n",
    "               'NS_output': y_test.iloc[:, 1],\n",
    "               'TF_output': y_test.iloc[:, 2],\n",
    "               'JP_output': y_test.iloc[:, 3]}\n",
    "\n",
    "model.evaluate(X_test,test_labels)"
   ]
  },
  {
   "cell_type": "code",
   "execution_count": 19,
   "id": "26c09dea-7157-458c-8959-34f4b337232c",
   "metadata": {},
   "outputs": [
    {
     "name": "stdout",
     "output_type": "stream",
     "text": [
      "y_train shape: (4879, 4)\n",
      "y_val shape: (1627, 4)\n"
     ]
    }
   ],
   "source": [
    "print(\"y_train shape:\", y_train.shape)\n",
    "print(\"y_val shape:\", y_val.shape)"
   ]
  },
  {
   "cell_type": "code",
   "execution_count": 21,
   "id": "beb5176f-d599-4447-a68b-e8c05bca69ed",
   "metadata": {},
   "outputs": [],
   "source": [
    "model.save(\"saved_models/LSTM_based_model.keras\")"
   ]
  },
  {
   "cell_type": "code",
   "execution_count": 22,
   "id": "dd25f575-b7d2-4103-9815-6e134491f091",
   "metadata": {},
   "outputs": [],
   "source": [
    "vocab_path = \"saved_models/vectorizer_vocab.txt\"\n",
    "vocabulary = vectorizer.get_vocabulary()  # Get the vocabulary list\n",
    "with open(vocab_path, \"w\") as f:\n",
    "    for word in vocabulary:\n",
    "        f.write(f\"{word}\\n\")"
   ]
  },
  {
   "cell_type": "markdown",
   "id": "da150318-0b6a-450d-9352-5261d57becd8",
   "metadata": {},
   "source": [
    "## Model Using Bert"
   ]
  },
  {
   "cell_type": "code",
   "execution_count": 41,
   "id": "4c828a4e-b827-4b93-a697-40c845459a2a",
   "metadata": {},
   "outputs": [],
   "source": [
    "import transformers"
   ]
  },
  {
   "cell_type": "code",
   "execution_count": 42,
   "id": "930f916a-b87d-4b98-9365-8226abc1c77c",
   "metadata": {},
   "outputs": [],
   "source": [
    "tokenizer = transformers.AutoTokenizer.from_pretrained('bert-large-uncased')"
   ]
  },
  {
   "cell_type": "code",
   "execution_count": 44,
   "id": "bef7113a-a34b-4b9f-af75-b70a02f627a0",
   "metadata": {},
   "outputs": [],
   "source": [
    "train_encodings = tokenizer(\n",
    "    list(X_train),\n",
    "    max_length= 250,\n",
    "    padding='max_length',\n",
    "    truncation=True,\n",
    "    return_tensors=\"tf\"\n",
    ")\n",
    "\n",
    "val_encodings = tokenizer(\n",
    "    list(X_val),\n",
    "    max_length=250,\n",
    "    padding='max_length',\n",
    "    truncation=True,\n",
    "    return_tensors=\"tf\"\n",
    ")\n",
    "\n",
    "# Extract inputs\n",
    "train_input_ids = train_encodings[\"input_ids\"]\n",
    "train_attention_mask = train_encodings[\"attention_mask\"]\n",
    "train_token_type_ids = train_encodings[\"token_type_ids\"]"
   ]
  },
  {
   "cell_type": "code",
   "execution_count": 51,
   "id": "2923028e-fbb7-4781-a644-f2357c5e1cf5",
   "metadata": {},
   "outputs": [
    {
     "name": "stderr",
     "output_type": "stream",
     "text": [
      "Some weights of the PyTorch model were not used when initializing the TF 2.0 model TFBertModel: ['cls.predictions.bias', 'cls.predictions.transform.LayerNorm.weight', 'cls.predictions.transform.LayerNorm.bias', 'cls.seq_relationship.bias', 'cls.predictions.transform.dense.weight', 'cls.seq_relationship.weight', 'cls.predictions.transform.dense.bias']\n",
      "- This IS expected if you are initializing TFBertModel from a PyTorch model trained on another task or with another architecture (e.g. initializing a TFBertForSequenceClassification model from a BertForPreTraining model).\n",
      "- This IS NOT expected if you are initializing TFBertModel from a PyTorch model that you expect to be exactly identical (e.g. initializing a TFBertForSequenceClassification model from a BertForSequenceClassification model).\n",
      "All the weights of TFBertModel were initialized from the PyTorch model.\n",
      "If your task is similar to the task the model of the checkpoint was trained on, you can already use TFBertModel for predictions without further training.\n"
     ]
    },
    {
     "data": {
      "text/html": [
       "<pre style=\"white-space:pre;overflow-x:auto;line-height:normal;font-family:Menlo,'DejaVu Sans Mono',consolas,'Courier New',monospace\"><span style=\"font-weight: bold\">Model: \"functional_2\"</span>\n",
       "</pre>\n"
      ],
      "text/plain": [
       "\u001b[1mModel: \"functional_2\"\u001b[0m\n"
      ]
     },
     "metadata": {},
     "output_type": "display_data"
    },
    {
     "data": {
      "text/html": [
       "<pre style=\"white-space:pre;overflow-x:auto;line-height:normal;font-family:Menlo,'DejaVu Sans Mono',consolas,'Courier New',monospace\">┏━━━━━━━━━━━━━━━━━━━━━┳━━━━━━━━━━━━━━━━━━━┳━━━━━━━━━━━━┳━━━━━━━━━━━━━━━━━━━┓\n",
       "┃<span style=\"font-weight: bold\"> Layer (type)        </span>┃<span style=\"font-weight: bold\"> Output Shape      </span>┃<span style=\"font-weight: bold\">    Param # </span>┃<span style=\"font-weight: bold\"> Connected to      </span>┃\n",
       "┡━━━━━━━━━━━━━━━━━━━━━╇━━━━━━━━━━━━━━━━━━━╇━━━━━━━━━━━━╇━━━━━━━━━━━━━━━━━━━┩\n",
       "│ input_word_ids      │ (<span style=\"color: #00d7ff; text-decoration-color: #00d7ff\">None</span>, <span style=\"color: #00af00; text-decoration-color: #00af00\">128</span>)       │          <span style=\"color: #00af00; text-decoration-color: #00af00\">0</span> │ -                 │\n",
       "│ (<span style=\"color: #0087ff; text-decoration-color: #0087ff\">InputLayer</span>)        │                   │            │                   │\n",
       "├─────────────────────┼───────────────────┼────────────┼───────────────────┤\n",
       "│ attention_mask      │ (<span style=\"color: #00d7ff; text-decoration-color: #00d7ff\">None</span>, <span style=\"color: #00af00; text-decoration-color: #00af00\">128</span>)       │          <span style=\"color: #00af00; text-decoration-color: #00af00\">0</span> │ -                 │\n",
       "│ (<span style=\"color: #0087ff; text-decoration-color: #0087ff\">InputLayer</span>)        │                   │            │                   │\n",
       "├─────────────────────┼───────────────────┼────────────┼───────────────────┤\n",
       "│ token_type_ids      │ (<span style=\"color: #00d7ff; text-decoration-color: #00d7ff\">None</span>, <span style=\"color: #00af00; text-decoration-color: #00af00\">128</span>)       │          <span style=\"color: #00af00; text-decoration-color: #00af00\">0</span> │ -                 │\n",
       "│ (<span style=\"color: #0087ff; text-decoration-color: #0087ff\">InputLayer</span>)        │                   │            │                   │\n",
       "├─────────────────────┼───────────────────┼────────────┼───────────────────┤\n",
       "│ bert_layer_1        │ (<span style=\"color: #00d7ff; text-decoration-color: #00d7ff\">None</span>, <span style=\"color: #00af00; text-decoration-color: #00af00\">128</span>, <span style=\"color: #00af00; text-decoration-color: #00af00\">1024</span>) │          <span style=\"color: #00af00; text-decoration-color: #00af00\">0</span> │ input_word_ids[<span style=\"color: #00af00; text-decoration-color: #00af00\">0</span>… │\n",
       "│ (<span style=\"color: #0087ff; text-decoration-color: #0087ff\">BertLayer</span>)         │                   │            │ attention_mask[<span style=\"color: #00af00; text-decoration-color: #00af00\">0</span>… │\n",
       "│                     │                   │            │ token_type_ids[<span style=\"color: #00af00; text-decoration-color: #00af00\">0</span>… │\n",
       "├─────────────────────┼───────────────────┼────────────┼───────────────────┤\n",
       "│ get_item_1          │ (<span style=\"color: #00d7ff; text-decoration-color: #00d7ff\">None</span>, <span style=\"color: #00af00; text-decoration-color: #00af00\">1024</span>)      │          <span style=\"color: #00af00; text-decoration-color: #00af00\">0</span> │ bert_layer_1[<span style=\"color: #00af00; text-decoration-color: #00af00\">0</span>][<span style=\"color: #00af00; text-decoration-color: #00af00\">…</span> │\n",
       "│ (<span style=\"color: #0087ff; text-decoration-color: #0087ff\">GetItem</span>)           │                   │            │                   │\n",
       "├─────────────────────┼───────────────────┼────────────┼───────────────────┤\n",
       "│ dropout_3 (<span style=\"color: #0087ff; text-decoration-color: #0087ff\">Dropout</span>) │ (<span style=\"color: #00d7ff; text-decoration-color: #00d7ff\">None</span>, <span style=\"color: #00af00; text-decoration-color: #00af00\">1024</span>)      │          <span style=\"color: #00af00; text-decoration-color: #00af00\">0</span> │ get_item_1[<span style=\"color: #00af00; text-decoration-color: #00af00\">0</span>][<span style=\"color: #00af00; text-decoration-color: #00af00\">0</span>]  │\n",
       "├─────────────────────┼───────────────────┼────────────┼───────────────────┤\n",
       "│ IE_output (<span style=\"color: #0087ff; text-decoration-color: #0087ff\">Dense</span>)   │ (<span style=\"color: #00d7ff; text-decoration-color: #00d7ff\">None</span>, <span style=\"color: #00af00; text-decoration-color: #00af00\">1</span>)         │      <span style=\"color: #00af00; text-decoration-color: #00af00\">1,025</span> │ dropout_3[<span style=\"color: #00af00; text-decoration-color: #00af00\">0</span>][<span style=\"color: #00af00; text-decoration-color: #00af00\">0</span>]   │\n",
       "├─────────────────────┼───────────────────┼────────────┼───────────────────┤\n",
       "│ NS_output (<span style=\"color: #0087ff; text-decoration-color: #0087ff\">Dense</span>)   │ (<span style=\"color: #00d7ff; text-decoration-color: #00d7ff\">None</span>, <span style=\"color: #00af00; text-decoration-color: #00af00\">1</span>)         │      <span style=\"color: #00af00; text-decoration-color: #00af00\">1,025</span> │ dropout_3[<span style=\"color: #00af00; text-decoration-color: #00af00\">0</span>][<span style=\"color: #00af00; text-decoration-color: #00af00\">0</span>]   │\n",
       "├─────────────────────┼───────────────────┼────────────┼───────────────────┤\n",
       "│ TF_output (<span style=\"color: #0087ff; text-decoration-color: #0087ff\">Dense</span>)   │ (<span style=\"color: #00d7ff; text-decoration-color: #00d7ff\">None</span>, <span style=\"color: #00af00; text-decoration-color: #00af00\">1</span>)         │      <span style=\"color: #00af00; text-decoration-color: #00af00\">1,025</span> │ dropout_3[<span style=\"color: #00af00; text-decoration-color: #00af00\">0</span>][<span style=\"color: #00af00; text-decoration-color: #00af00\">0</span>]   │\n",
       "├─────────────────────┼───────────────────┼────────────┼───────────────────┤\n",
       "│ JP_output (<span style=\"color: #0087ff; text-decoration-color: #0087ff\">Dense</span>)   │ (<span style=\"color: #00d7ff; text-decoration-color: #00d7ff\">None</span>, <span style=\"color: #00af00; text-decoration-color: #00af00\">1</span>)         │      <span style=\"color: #00af00; text-decoration-color: #00af00\">1,025</span> │ dropout_3[<span style=\"color: #00af00; text-decoration-color: #00af00\">0</span>][<span style=\"color: #00af00; text-decoration-color: #00af00\">0</span>]   │\n",
       "└─────────────────────┴───────────────────┴────────────┴───────────────────┘\n",
       "</pre>\n"
      ],
      "text/plain": [
       "┏━━━━━━━━━━━━━━━━━━━━━┳━━━━━━━━━━━━━━━━━━━┳━━━━━━━━━━━━┳━━━━━━━━━━━━━━━━━━━┓\n",
       "┃\u001b[1m \u001b[0m\u001b[1mLayer (type)       \u001b[0m\u001b[1m \u001b[0m┃\u001b[1m \u001b[0m\u001b[1mOutput Shape     \u001b[0m\u001b[1m \u001b[0m┃\u001b[1m \u001b[0m\u001b[1m   Param #\u001b[0m\u001b[1m \u001b[0m┃\u001b[1m \u001b[0m\u001b[1mConnected to     \u001b[0m\u001b[1m \u001b[0m┃\n",
       "┡━━━━━━━━━━━━━━━━━━━━━╇━━━━━━━━━━━━━━━━━━━╇━━━━━━━━━━━━╇━━━━━━━━━━━━━━━━━━━┩\n",
       "│ input_word_ids      │ (\u001b[38;5;45mNone\u001b[0m, \u001b[38;5;34m128\u001b[0m)       │          \u001b[38;5;34m0\u001b[0m │ -                 │\n",
       "│ (\u001b[38;5;33mInputLayer\u001b[0m)        │                   │            │                   │\n",
       "├─────────────────────┼───────────────────┼────────────┼───────────────────┤\n",
       "│ attention_mask      │ (\u001b[38;5;45mNone\u001b[0m, \u001b[38;5;34m128\u001b[0m)       │          \u001b[38;5;34m0\u001b[0m │ -                 │\n",
       "│ (\u001b[38;5;33mInputLayer\u001b[0m)        │                   │            │                   │\n",
       "├─────────────────────┼───────────────────┼────────────┼───────────────────┤\n",
       "│ token_type_ids      │ (\u001b[38;5;45mNone\u001b[0m, \u001b[38;5;34m128\u001b[0m)       │          \u001b[38;5;34m0\u001b[0m │ -                 │\n",
       "│ (\u001b[38;5;33mInputLayer\u001b[0m)        │                   │            │                   │\n",
       "├─────────────────────┼───────────────────┼────────────┼───────────────────┤\n",
       "│ bert_layer_1        │ (\u001b[38;5;45mNone\u001b[0m, \u001b[38;5;34m128\u001b[0m, \u001b[38;5;34m1024\u001b[0m) │          \u001b[38;5;34m0\u001b[0m │ input_word_ids[\u001b[38;5;34m0\u001b[0m… │\n",
       "│ (\u001b[38;5;33mBertLayer\u001b[0m)         │                   │            │ attention_mask[\u001b[38;5;34m0\u001b[0m… │\n",
       "│                     │                   │            │ token_type_ids[\u001b[38;5;34m0\u001b[0m… │\n",
       "├─────────────────────┼───────────────────┼────────────┼───────────────────┤\n",
       "│ get_item_1          │ (\u001b[38;5;45mNone\u001b[0m, \u001b[38;5;34m1024\u001b[0m)      │          \u001b[38;5;34m0\u001b[0m │ bert_layer_1[\u001b[38;5;34m0\u001b[0m][\u001b[38;5;34m…\u001b[0m │\n",
       "│ (\u001b[38;5;33mGetItem\u001b[0m)           │                   │            │                   │\n",
       "├─────────────────────┼───────────────────┼────────────┼───────────────────┤\n",
       "│ dropout_3 (\u001b[38;5;33mDropout\u001b[0m) │ (\u001b[38;5;45mNone\u001b[0m, \u001b[38;5;34m1024\u001b[0m)      │          \u001b[38;5;34m0\u001b[0m │ get_item_1[\u001b[38;5;34m0\u001b[0m][\u001b[38;5;34m0\u001b[0m]  │\n",
       "├─────────────────────┼───────────────────┼────────────┼───────────────────┤\n",
       "│ IE_output (\u001b[38;5;33mDense\u001b[0m)   │ (\u001b[38;5;45mNone\u001b[0m, \u001b[38;5;34m1\u001b[0m)         │      \u001b[38;5;34m1,025\u001b[0m │ dropout_3[\u001b[38;5;34m0\u001b[0m][\u001b[38;5;34m0\u001b[0m]   │\n",
       "├─────────────────────┼───────────────────┼────────────┼───────────────────┤\n",
       "│ NS_output (\u001b[38;5;33mDense\u001b[0m)   │ (\u001b[38;5;45mNone\u001b[0m, \u001b[38;5;34m1\u001b[0m)         │      \u001b[38;5;34m1,025\u001b[0m │ dropout_3[\u001b[38;5;34m0\u001b[0m][\u001b[38;5;34m0\u001b[0m]   │\n",
       "├─────────────────────┼───────────────────┼────────────┼───────────────────┤\n",
       "│ TF_output (\u001b[38;5;33mDense\u001b[0m)   │ (\u001b[38;5;45mNone\u001b[0m, \u001b[38;5;34m1\u001b[0m)         │      \u001b[38;5;34m1,025\u001b[0m │ dropout_3[\u001b[38;5;34m0\u001b[0m][\u001b[38;5;34m0\u001b[0m]   │\n",
       "├─────────────────────┼───────────────────┼────────────┼───────────────────┤\n",
       "│ JP_output (\u001b[38;5;33mDense\u001b[0m)   │ (\u001b[38;5;45mNone\u001b[0m, \u001b[38;5;34m1\u001b[0m)         │      \u001b[38;5;34m1,025\u001b[0m │ dropout_3[\u001b[38;5;34m0\u001b[0m][\u001b[38;5;34m0\u001b[0m]   │\n",
       "└─────────────────────┴───────────────────┴────────────┴───────────────────┘\n"
      ]
     },
     "metadata": {},
     "output_type": "display_data"
    },
    {
     "data": {
      "text/html": [
       "<pre style=\"white-space:pre;overflow-x:auto;line-height:normal;font-family:Menlo,'DejaVu Sans Mono',consolas,'Courier New',monospace\"><span style=\"font-weight: bold\"> Total params: </span><span style=\"color: #00af00; text-decoration-color: #00af00\">4,100</span> (16.02 KB)\n",
       "</pre>\n"
      ],
      "text/plain": [
       "\u001b[1m Total params: \u001b[0m\u001b[38;5;34m4,100\u001b[0m (16.02 KB)\n"
      ]
     },
     "metadata": {},
     "output_type": "display_data"
    },
    {
     "data": {
      "text/html": [
       "<pre style=\"white-space:pre;overflow-x:auto;line-height:normal;font-family:Menlo,'DejaVu Sans Mono',consolas,'Courier New',monospace\"><span style=\"font-weight: bold\"> Trainable params: </span><span style=\"color: #00af00; text-decoration-color: #00af00\">4,100</span> (16.02 KB)\n",
       "</pre>\n"
      ],
      "text/plain": [
       "\u001b[1m Trainable params: \u001b[0m\u001b[38;5;34m4,100\u001b[0m (16.02 KB)\n"
      ]
     },
     "metadata": {},
     "output_type": "display_data"
    },
    {
     "data": {
      "text/html": [
       "<pre style=\"white-space:pre;overflow-x:auto;line-height:normal;font-family:Menlo,'DejaVu Sans Mono',consolas,'Courier New',monospace\"><span style=\"font-weight: bold\"> Non-trainable params: </span><span style=\"color: #00af00; text-decoration-color: #00af00\">0</span> (0.00 B)\n",
       "</pre>\n"
      ],
      "text/plain": [
       "\u001b[1m Non-trainable params: \u001b[0m\u001b[38;5;34m0\u001b[0m (0.00 B)\n"
      ]
     },
     "metadata": {},
     "output_type": "display_data"
    }
   ],
   "source": [
    "import tensorflow as tf\n",
    "from tensorflow.keras import layers\n",
    "from transformers import TFBertModel\n",
    "\n",
    "# Define a custom layer to wrap TFBertModel\n",
    "class BertLayer(layers.Layer):\n",
    "    def __init__(self, pretrained_model_name, **kwargs):\n",
    "        super(BertLayer, self).__init__(**kwargs)\n",
    "        self.bert = TFBertModel.from_pretrained(pretrained_model_name)\n",
    "\n",
    "    def call(self, inputs):\n",
    "        input_ids, attention_mask, token_type_ids = inputs\n",
    "        outputs = self.bert(\n",
    "            input_ids=input_ids,\n",
    "            attention_mask=attention_mask,\n",
    "            token_type_ids=token_type_ids,\n",
    "        )\n",
    "        return outputs.last_hidden_state  # Return the last hidden state\n",
    "\n",
    "# Constants\n",
    "max_length = 128\n",
    "\n",
    "# Define input layers\n",
    "input_word_ids = tf.keras.layers.Input(shape=(max_length,), dtype=tf.int32, name=\"input_word_ids\")\n",
    "attention_mask = tf.keras.layers.Input(shape=(max_length,), dtype=tf.int32, name=\"attention_mask\")\n",
    "token_type_ids = tf.keras.layers.Input(shape=(max_length,), dtype=tf.int32, name=\"token_type_ids\")\n",
    "\n",
    "# Add BertLayer\n",
    "bert_outputs = BertLayer(pretrained_model_name='bert-large-uncased')(\n",
    "    [input_word_ids, attention_mask, token_type_ids]\n",
    ")\n",
    "\n",
    "# Use the CLS token for classification tasks\n",
    "cls_token_output = bert_outputs[:, 0, :]\n",
    "\n",
    "# Add additional layers\n",
    "dropout = tf.keras.layers.Dropout(0.2)(cls_token_output)\n",
    "output_IE = tf.keras.layers.Dense(1, activation='sigmoid', name='IE_output')(dropout)\n",
    "output_NS = tf.keras.layers.Dense(1, activation='sigmoid', name='NS_output')(dropout)\n",
    "output_TF = tf.keras.layers.Dense(1, activation='sigmoid', name='TF_output')(dropout)\n",
    "output_JP = tf.keras.layers.Dense(1, activation='sigmoid', name='JP_output')(dropout)\n",
    "\n",
    "# Build and compile the model\n",
    "model = tf.keras.Model(\n",
    "    inputs=[input_word_ids, attention_mask, token_type_ids],\n",
    "    outputs=[output_IE, output_NS, output_TF, output_JP],\n",
    ")\n",
    "\n",
    "model.compile(\n",
    "    optimizer=tf.keras.optimizers.Adam(learning_rate=3e-5),\n",
    "    loss='binary_crossentropy',\n",
    "    metrics={'IE_output': 'accuracy',\n",
    "             'NS_output': 'accuracy',\n",
    "             'TF_output': 'accuracy',\n",
    "             'JP_output': 'accuracy'},\n",
    ")\n",
    "\n",
    "model.summary()\n"
   ]
  },
  {
   "cell_type": "code",
   "execution_count": 52,
   "id": "44351c27-94c7-4373-a53e-374ae1dfd3cd",
   "metadata": {},
   "outputs": [],
   "source": [
    "def tokenize_texts(texts, tokenizer, max_length=128):\n",
    "    tokenized_data = tokenizer(\n",
    "        list(texts),\n",
    "        max_length=max_length,\n",
    "        padding='max_length',\n",
    "        truncation=True,\n",
    "        return_tensors='np'  # Use NumPy for easier manipulation\n",
    "    )\n",
    "    return tokenized_data['input_ids'], tokenized_data['attention_mask'], tokenized_data['token_type_ids']\n",
    "\n",
    "# Tokenize the datasets\n",
    "max_length = 128\n",
    "X_train_input_ids, X_train_attention_mask, X_train_token_type_ids = tokenize_texts(X_train, tokenizer, max_length)\n",
    "X_val_input_ids, X_val_attention_mask, X_val_token_type_ids = tokenize_texts(X_val, tokenizer, max_length)\n",
    "X_test_input_ids, X_test_attention_mask, X_test_token_type_ids = tokenize_texts(X_test, tokenizer, max_length)"
   ]
  },
  {
   "cell_type": "code",
   "execution_count": 53,
   "id": "abbeb41b-fbf6-4b1a-83e6-94334473ec37",
   "metadata": {},
   "outputs": [],
   "source": [
    "# Training inputs\n",
    "X_train_inputs = {\n",
    "    \"input_word_ids\": X_train_input_ids,\n",
    "    \"attention_mask\": X_train_attention_mask,\n",
    "    \"token_type_ids\": X_train_token_type_ids,\n",
    "}\n",
    "\n",
    "# Validation inputs\n",
    "X_val_inputs = {\n",
    "    \"input_word_ids\": X_val_input_ids,\n",
    "    \"attention_mask\": X_val_attention_mask,\n",
    "    \"token_type_ids\": X_val_token_type_ids,\n",
    "}\n",
    "\n",
    "# Testing inputs\n",
    "X_test_inputs = {\n",
    "    \"input_word_ids\": X_test_input_ids,\n",
    "    \"attention_mask\": X_test_attention_mask,\n",
    "    \"token_type_ids\": X_test_token_type_ids,\n",
    "}\n",
    "\n",
    "train_labels = {'IE_output': y_train.iloc[:, 0],\n",
    "                'NS_output': y_train.iloc[:, 1],\n",
    "                'TF_output': y_train.iloc[:, 2],\n",
    "                'JP_output': y_train.iloc[:, 3]}\n",
    "\n",
    "val_labels = {'IE_output': y_val.iloc[:, 0],\n",
    "               'NS_output': y_val.iloc[:, 1],\n",
    "               'TF_output': y_val.iloc[:, 2],\n",
    "               'JP_output': y_val.iloc[:, 3]}"
   ]
  },
  {
   "cell_type": "code",
   "execution_count": 54,
   "id": "032dbb9a-0caa-45f0-ad3b-55dabfcd1185",
   "metadata": {},
   "outputs": [
    {
     "name": "stdout",
     "output_type": "stream",
     "text": [
      "Epoch 1/5\n",
      "\u001b[1m153/153\u001b[0m \u001b[32m━━━━━━━━━━━━━━━━━━━━\u001b[0m\u001b[37m\u001b[0m \u001b[1m1978s\u001b[0m 13s/step - IE_output_accuracy: 0.6250 - IE_output_loss: 0.6409 - JP_output_accuracy: 0.5960 - JP_output_loss: 0.7135 - NS_output_accuracy: 0.8656 - NS_output_loss: 0.4235 - TF_output_accuracy: 0.4930 - TF_output_loss: 0.7455 - loss: 2.5235 - val_IE_output_accuracy: 0.7615 - val_IE_output_loss: 0.5512 - val_JP_output_accuracy: 0.5833 - val_JP_output_loss: 0.6885 - val_NS_output_accuracy: 0.8556 - val_NS_output_loss: 0.4193 - val_TF_output_accuracy: 0.5372 - val_TF_output_loss: 0.6910 - val_loss: 2.3493\n",
      "Epoch 2/5\n",
      "\u001b[1m153/153\u001b[0m \u001b[32m━━━━━━━━━━━━━━━━━━━━\u001b[0m\u001b[37m\u001b[0m \u001b[1m2111s\u001b[0m 14s/step - IE_output_accuracy: 0.7585 - IE_output_loss: 0.5623 - JP_output_accuracy: 0.5684 - JP_output_loss: 0.6992 - NS_output_accuracy: 0.8654 - NS_output_loss: 0.4107 - TF_output_accuracy: 0.5172 - TF_output_loss: 0.7144 - loss: 2.3866 - val_IE_output_accuracy: 0.7615 - val_IE_output_loss: 0.5483 - val_JP_output_accuracy: 0.5833 - val_JP_output_loss: 0.6859 - val_NS_output_accuracy: 0.8556 - val_NS_output_loss: 0.4203 - val_TF_output_accuracy: 0.5433 - val_TF_output_loss: 0.6889 - val_loss: 2.3427\n",
      "Epoch 3/5\n",
      "\u001b[1m153/153\u001b[0m \u001b[32m━━━━━━━━━━━━━━━━━━━━\u001b[0m\u001b[37m\u001b[0m \u001b[1m1982s\u001b[0m 13s/step - IE_output_accuracy: 0.7530 - IE_output_loss: 0.5704 - JP_output_accuracy: 0.5743 - JP_output_loss: 0.6951 - NS_output_accuracy: 0.8596 - NS_output_loss: 0.4186 - TF_output_accuracy: 0.5158 - TF_output_loss: 0.7183 - loss: 2.4024 - val_IE_output_accuracy: 0.7615 - val_IE_output_loss: 0.5481 - val_JP_output_accuracy: 0.5845 - val_JP_output_loss: 0.6869 - val_NS_output_accuracy: 0.8556 - val_NS_output_loss: 0.4202 - val_TF_output_accuracy: 0.5495 - val_TF_output_loss: 0.6871 - val_loss: 2.3415\n",
      "Epoch 4/5\n",
      "\u001b[1m153/153\u001b[0m \u001b[32m━━━━━━━━━━━━━━━━━━━━\u001b[0m\u001b[37m\u001b[0m \u001b[1m1989s\u001b[0m 13s/step - IE_output_accuracy: 0.7679 - IE_output_loss: 0.5488 - JP_output_accuracy: 0.5547 - JP_output_loss: 0.7072 - NS_output_accuracy: 0.8624 - NS_output_loss: 0.4169 - TF_output_accuracy: 0.5212 - TF_output_loss: 0.7112 - loss: 2.3840 - val_IE_output_accuracy: 0.7615 - val_IE_output_loss: 0.5476 - val_JP_output_accuracy: 0.5833 - val_JP_output_loss: 0.6853 - val_NS_output_accuracy: 0.8556 - val_NS_output_loss: 0.4192 - val_TF_output_accuracy: 0.5507 - val_TF_output_loss: 0.6853 - val_loss: 2.3368\n",
      "Epoch 5/5\n",
      "\u001b[1m153/153\u001b[0m \u001b[32m━━━━━━━━━━━━━━━━━━━━\u001b[0m\u001b[37m\u001b[0m \u001b[1m2012s\u001b[0m 13s/step - IE_output_accuracy: 0.7664 - IE_output_loss: 0.5449 - JP_output_accuracy: 0.5510 - JP_output_loss: 0.7068 - NS_output_accuracy: 0.8579 - NS_output_loss: 0.4208 - TF_output_accuracy: 0.5155 - TF_output_loss: 0.7186 - loss: 2.3911 - val_IE_output_accuracy: 0.7615 - val_IE_output_loss: 0.5470 - val_JP_output_accuracy: 0.5796 - val_JP_output_loss: 0.6838 - val_NS_output_accuracy: 0.8556 - val_NS_output_loss: 0.4194 - val_TF_output_accuracy: 0.5636 - val_TF_output_loss: 0.6837 - val_loss: 2.3331\n"
     ]
    }
   ],
   "source": [
    "history = model.fit(\n",
    "    X_train_inputs,\n",
    "    train_labels,\n",
    "    validation_data=(\n",
    "        X_val_inputs,\n",
    "       val_labels,\n",
    "    ),\n",
    "    batch_size=32,\n",
    "    epochs=5,\n",
    ")"
   ]
  },
  {
   "cell_type": "code",
   "execution_count": 58,
   "id": "8b336ce3-d74a-4f67-b2cd-cf690a6cac10",
   "metadata": {},
   "outputs": [
    {
     "name": "stdout",
     "output_type": "stream",
     "text": [
      "\u001b[1m68/68\u001b[0m \u001b[32m━━━━━━━━━━━━━━━━━━━━\u001b[0m\u001b[37m\u001b[0m \u001b[1m652s\u001b[0m 10s/step - IE_output_accuracy: 0.7828 - IE_output_loss: 0.5216 - JP_output_accuracy: 0.6201 - JP_output_loss: 0.6641 - NS_output_accuracy: 0.8576 - NS_output_loss: 0.4133 - TF_output_accuracy: 0.5426 - TF_output_loss: 0.6868 - loss: 2.2858\n"
     ]
    },
    {
     "data": {
      "text/plain": [
       "[2.288877010345459,\n",
       " 0.5227404236793518,\n",
       " 0.4101163446903229,\n",
       " 0.6862896680831909,\n",
       " 0.6693678498268127,\n",
       " 0.7819271683692932,\n",
       " 0.6058091521263123,\n",
       " 0.8584601283073425,\n",
       " 0.5541724562644958]"
      ]
     },
     "execution_count": 58,
     "metadata": {},
     "output_type": "execute_result"
    }
   ],
   "source": [
    "test_labels = {'IE_output': y_test.iloc[:, 0],\n",
    "               'NS_output': y_test.iloc[:, 1],\n",
    "               'TF_output': y_test.iloc[:, 2],\n",
    "               'JP_output': y_test.iloc[:, 3]}\n",
    "\n",
    "\n",
    "model.evaluate(X_test_inputs, test_labels)"
   ]
  },
  {
   "cell_type": "code",
   "execution_count": 59,
   "id": "938ed13b-d23b-4a8a-8a09-0308602aaee2",
   "metadata": {},
   "outputs": [],
   "source": [
    "model.save(\"bert_model.keras\")"
   ]
  },
  {
   "cell_type": "code",
   "execution_count": null,
   "id": "d666f227-ebc3-440e-a19a-463076389f14",
   "metadata": {},
   "outputs": [],
   "source": []
  }
 ],
 "metadata": {
  "kernelspec": {
   "display_name": "Python 3 (ipykernel)",
   "language": "python",
   "name": "python3"
  },
  "language_info": {
   "codemirror_mode": {
    "name": "ipython",
    "version": 3
   },
   "file_extension": ".py",
   "mimetype": "text/x-python",
   "name": "python",
   "nbconvert_exporter": "python",
   "pygments_lexer": "ipython3",
   "version": "3.12.3"
  }
 },
 "nbformat": 4,
 "nbformat_minor": 5
}
