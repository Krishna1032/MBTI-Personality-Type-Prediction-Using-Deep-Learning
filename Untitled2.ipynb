{
 "cells": [
  {
   "cell_type": "code",
   "execution_count": 1,
   "id": "4fb00158-ac3d-41ec-9e18-06f765f58060",
   "metadata": {},
   "outputs": [],
   "source": [
    "import tensorflow as tf\n",
    "import numpy as np\n",
    "import pandas as pd"
   ]
  },
  {
   "cell_type": "code",
   "execution_count": 2,
   "id": "b54caf28-016a-427b-83e4-919eb246458e",
   "metadata": {},
   "outputs": [],
   "source": [
    "data = pd.read_csv(\"./processed_mbti.csv\")"
   ]
  },
  {
   "cell_type": "code",
   "execution_count": 3,
   "id": "70a9a3f5-b95b-4c0b-a8c9-1d3458167c9d",
   "metadata": {},
   "outputs": [
    {
     "data": {
      "text/html": [
       "<div>\n",
       "<style scoped>\n",
       "    .dataframe tbody tr th:only-of-type {\n",
       "        vertical-align: middle;\n",
       "    }\n",
       "\n",
       "    .dataframe tbody tr th {\n",
       "        vertical-align: top;\n",
       "    }\n",
       "\n",
       "    .dataframe thead th {\n",
       "        text-align: right;\n",
       "    }\n",
       "</style>\n",
       "<table border=\"1\" class=\"dataframe\">\n",
       "  <thead>\n",
       "    <tr style=\"text-align: right;\">\n",
       "      <th></th>\n",
       "      <th>I/E</th>\n",
       "      <th>N/S</th>\n",
       "      <th>T/F</th>\n",
       "      <th>J/P</th>\n",
       "      <th>processed_text</th>\n",
       "    </tr>\n",
       "  </thead>\n",
       "  <tbody>\n",
       "    <tr>\n",
       "      <th>0</th>\n",
       "      <td>1</td>\n",
       "      <td>1</td>\n",
       "      <td>0</td>\n",
       "      <td>1</td>\n",
       "      <td>moment sportscenter top ten play prankswhat li...</td>\n",
       "    </tr>\n",
       "    <tr>\n",
       "      <th>1</th>\n",
       "      <td>0</td>\n",
       "      <td>1</td>\n",
       "      <td>1</td>\n",
       "      <td>0</td>\n",
       "      <td>finding lack post alarming sex boring position...</td>\n",
       "    </tr>\n",
       "    <tr>\n",
       "      <th>2</th>\n",
       "      <td>1</td>\n",
       "      <td>1</td>\n",
       "      <td>1</td>\n",
       "      <td>0</td>\n",
       "      <td>good one course say know blessing curse absolu...</td>\n",
       "    </tr>\n",
       "    <tr>\n",
       "      <th>3</th>\n",
       "      <td>1</td>\n",
       "      <td>1</td>\n",
       "      <td>1</td>\n",
       "      <td>1</td>\n",
       "      <td>dear enjoyed conversation day esoteric gabbing...</td>\n",
       "    </tr>\n",
       "    <tr>\n",
       "      <th>4</th>\n",
       "      <td>0</td>\n",
       "      <td>1</td>\n",
       "      <td>1</td>\n",
       "      <td>1</td>\n",
       "      <td>fired another silly misconception approaching ...</td>\n",
       "    </tr>\n",
       "  </tbody>\n",
       "</table>\n",
       "</div>"
      ],
      "text/plain": [
       "   I/E  N/S  T/F  J/P                                     processed_text\n",
       "0    1    1    0    1  moment sportscenter top ten play prankswhat li...\n",
       "1    0    1    1    0  finding lack post alarming sex boring position...\n",
       "2    1    1    1    0  good one course say know blessing curse absolu...\n",
       "3    1    1    1    1  dear enjoyed conversation day esoteric gabbing...\n",
       "4    0    1    1    1  fired another silly misconception approaching ..."
      ]
     },
     "execution_count": 3,
     "metadata": {},
     "output_type": "execute_result"
    }
   ],
   "source": [
    "data.head()"
   ]
  },
  {
   "cell_type": "code",
   "execution_count": 21,
   "id": "a908d708-1a80-49e6-b85b-c2046ae7b82f",
   "metadata": {},
   "outputs": [
    {
     "name": "stdout",
     "output_type": "stream",
     "text": [
      "1\n",
      "processed_text\n",
      "<class 'str'>      8674\n",
      "<class 'float'>       1\n",
      "Name: count, dtype: int64\n",
      "0\n",
      "processed_text\n",
      "<class 'str'>    8675\n",
      "Name: count, dtype: int64\n"
     ]
    }
   ],
   "source": [
    "print(data.processed_text.isna().sum())  # Count of NaN values\n",
    "print(data.processed_text.apply(type).value_counts())  # Types present\n",
    "\n",
    "data['processed_text'] = data['processed_text'].fillna(\"\")  # Replace NaN with empty strings\n",
    "data['processed_text'] = data['processed_text'].astype(str)  # Convert all to strings\n",
    "\n",
    "print(data.processed_text.isna().sum())  # Count of NaN values\n",
    "print(data.processed_text.apply(type).value_counts())  # Types present"
   ]
  },
  {
   "cell_type": "code",
   "execution_count": 22,
   "id": "da394f2d-32a9-4b1f-862f-1c00371d213e",
   "metadata": {},
   "outputs": [
    {
     "name": "stdout",
     "output_type": "stream",
     "text": [
      "<class 'pandas.core.frame.DataFrame'>\n",
      "RangeIndex: 8675 entries, 0 to 8674\n",
      "Data columns (total 5 columns):\n",
      " #   Column          Non-Null Count  Dtype \n",
      "---  ------          --------------  ----- \n",
      " 0   I/E             8675 non-null   int64 \n",
      " 1   N/S             8675 non-null   int64 \n",
      " 2   T/F             8675 non-null   int64 \n",
      " 3   J/P             8675 non-null   int64 \n",
      " 4   processed_text  8675 non-null   object\n",
      "dtypes: int64(4), object(1)\n",
      "memory usage: 339.0+ KB\n"
     ]
    }
   ],
   "source": [
    "data.info()"
   ]
  },
  {
   "cell_type": "code",
   "execution_count": 23,
   "id": "b2ad60de-20be-4530-8a9b-b1b5e38ce4ba",
   "metadata": {},
   "outputs": [],
   "source": [
    "text = data.processed_text.astype(\"string\")\n",
    "labels = data[[\"I/E\", \"N/S\", \"T/F\", \"J/P\"]]"
   ]
  },
  {
   "cell_type": "code",
   "execution_count": 35,
   "id": "9ea74634-44e7-4086-829d-444bc3d853e1",
   "metadata": {},
   "outputs": [],
   "source": [
    "from sklearn.model_selection import train_test_split\n",
    "\n",
    "X_train_full, X_test, y_train_full, y_test = train_test_split(text, labels, random_state = 42)\n",
    "X_train, X_val, y_train, y_val = train_test_split(X_train_full, y_train_full, random_state = 42)"
   ]
  },
  {
   "cell_type": "code",
   "execution_count": 25,
   "id": "72771656-9627-4449-aec0-d3aaabca4320",
   "metadata": {},
   "outputs": [
    {
     "data": {
      "text/plain": [
       "((4879,), (4879, 4), (1627,), (1627, 4))"
      ]
     },
     "execution_count": 25,
     "metadata": {},
     "output_type": "execute_result"
    }
   ],
   "source": [
    "X_train.shape, y_train.shape, X_val.shape, y_val.shape"
   ]
  },
  {
   "cell_type": "code",
   "execution_count": 26,
   "id": "cca8ed42-a0f5-4acc-ae37-3fb12fe50966",
   "metadata": {},
   "outputs": [
    {
     "name": "stdout",
     "output_type": "stream",
     "text": [
      "<class 'pandas.core.series.Series'>\n",
      "Index: 4879 entries, 7978 to 8342\n",
      "Series name: processed_text\n",
      "Non-Null Count  Dtype \n",
      "--------------  ----- \n",
      "4879 non-null   string\n",
      "dtypes: string(1)\n",
      "memory usage: 76.2 KB\n",
      "<class 'pandas.core.frame.DataFrame'>\n",
      "Index: 4879 entries, 7978 to 8342\n",
      "Data columns (total 4 columns):\n",
      " #   Column  Non-Null Count  Dtype\n",
      "---  ------  --------------  -----\n",
      " 0   I/E     4879 non-null   int64\n",
      " 1   N/S     4879 non-null   int64\n",
      " 2   T/F     4879 non-null   int64\n",
      " 3   J/P     4879 non-null   int64\n",
      "dtypes: int64(4)\n",
      "memory usage: 190.6 KB\n"
     ]
    },
    {
     "data": {
      "text/plain": [
       "(None, None)"
      ]
     },
     "execution_count": 26,
     "metadata": {},
     "output_type": "execute_result"
    }
   ],
   "source": [
    "X_train.info(), y_train.info()"
   ]
  },
  {
   "cell_type": "code",
   "execution_count": 27,
   "id": "77fa5cae-6c21-4a67-977a-8cc8bf927a70",
   "metadata": {},
   "outputs": [
    {
     "name": "stdout",
     "output_type": "stream",
     "text": [
      "string\n"
     ]
    }
   ],
   "source": [
    "print(X_train.dtypes)"
   ]
  },
  {
   "cell_type": "code",
   "execution_count": 28,
   "id": "d70275fc-ff19-4d42-90b2-37bdc6e2b484",
   "metadata": {},
   "outputs": [],
   "source": [
    "from tensorflow.keras.layers import Embedding, Bidirectional, LSTM, Dropout, Dense, Input\n",
    "from tensorflow.keras.callbacks import EarlyStopping\n",
    "\n",
    "embedding_dim = 128\n",
    "max_tokens = 10_000\n",
    "\n",
    "vectorizer = tf.keras.layers.TextVectorization(\n",
    "    max_tokens = 10_000,\n",
    "    output_mode = 'int',\n",
    "    output_sequence_length = 250\n",
    ")\n",
    "\n",
    "vectorizer.adapt(data.processed_text)\n",
    "\n",
    "# Input layer\n",
    "input_layer = Input(shape=(1,), dtype=\"string\", name='input_text')\n",
    "\n",
    "# Vectorizer layer\n",
    "x = vectorizer(input_layer)\n",
    "\n",
    "# Shared layers\n",
    "x = Embedding(input_dim = max_tokens, output_dim = embedding_dim)(x)\n",
    "x = Bidirectional(LSTM(200, return_sequences=True, dropout=0.2, recurrent_dropout=0.2))(x)\n",
    "x = Dropout(0.2)(x)\n",
    "x = Bidirectional(LSTM(32, dropout=0.2, recurrent_dropout=0.2))(x)\n",
    "x = Dropout(0.2)(x)\n",
    "x = Dense(20, activation=\"relu\", kernel_initializer='he_normal')(x)\n",
    "\n",
    "# Separate outputs\n",
    "output_IE = Dense(1, activation='sigmoid', name='IE_output')(x)\n",
    "output_NS = Dense(1, activation='sigmoid', name='NS_output')(x)\n",
    "output_TF = Dense(1, activation='sigmoid', name='TF_output')(x)\n",
    "output_JP = Dense(1, activation='sigmoid', name='JP_output')(x)\n",
    "\n",
    "\n",
    "model = tf.keras.Model(inputs=input_layer, outputs=[output_IE, output_NS, output_TF, output_JP])"
   ]
  },
  {
   "cell_type": "code",
   "execution_count": 29,
   "id": "dceaefc4-e4c4-4741-94e6-9ac68f06bf60",
   "metadata": {},
   "outputs": [
    {
     "data": {
      "text/html": [
       "<pre style=\"white-space:pre;overflow-x:auto;line-height:normal;font-family:Menlo,'DejaVu Sans Mono',consolas,'Courier New',monospace\"><span style=\"font-weight: bold\">Model: \"functional\"</span>\n",
       "</pre>\n"
      ],
      "text/plain": [
       "\u001b[1mModel: \"functional\"\u001b[0m\n"
      ]
     },
     "metadata": {},
     "output_type": "display_data"
    },
    {
     "data": {
      "text/html": [
       "<pre style=\"white-space:pre;overflow-x:auto;line-height:normal;font-family:Menlo,'DejaVu Sans Mono',consolas,'Courier New',monospace\">┏━━━━━━━━━━━━━━━━━━━━━┳━━━━━━━━━━━━━━━━━━━┳━━━━━━━━━━━━┳━━━━━━━━━━━━━━━━━━━┓\n",
       "┃<span style=\"font-weight: bold\"> Layer (type)        </span>┃<span style=\"font-weight: bold\"> Output Shape      </span>┃<span style=\"font-weight: bold\">    Param # </span>┃<span style=\"font-weight: bold\"> Connected to      </span>┃\n",
       "┡━━━━━━━━━━━━━━━━━━━━━╇━━━━━━━━━━━━━━━━━━━╇━━━━━━━━━━━━╇━━━━━━━━━━━━━━━━━━━┩\n",
       "│ input_text          │ (<span style=\"color: #00d7ff; text-decoration-color: #00d7ff\">None</span>, <span style=\"color: #00af00; text-decoration-color: #00af00\">1</span>)         │          <span style=\"color: #00af00; text-decoration-color: #00af00\">0</span> │ -                 │\n",
       "│ (<span style=\"color: #0087ff; text-decoration-color: #0087ff\">InputLayer</span>)        │                   │            │                   │\n",
       "├─────────────────────┼───────────────────┼────────────┼───────────────────┤\n",
       "│ text_vectorization… │ (<span style=\"color: #00d7ff; text-decoration-color: #00d7ff\">None</span>, <span style=\"color: #00af00; text-decoration-color: #00af00\">250</span>)       │          <span style=\"color: #00af00; text-decoration-color: #00af00\">0</span> │ input_text[<span style=\"color: #00af00; text-decoration-color: #00af00\">0</span>][<span style=\"color: #00af00; text-decoration-color: #00af00\">0</span>]  │\n",
       "│ (<span style=\"color: #0087ff; text-decoration-color: #0087ff\">TextVectorization</span>) │                   │            │                   │\n",
       "├─────────────────────┼───────────────────┼────────────┼───────────────────┤\n",
       "│ embedding           │ (<span style=\"color: #00d7ff; text-decoration-color: #00d7ff\">None</span>, <span style=\"color: #00af00; text-decoration-color: #00af00\">250</span>, <span style=\"color: #00af00; text-decoration-color: #00af00\">128</span>)  │  <span style=\"color: #00af00; text-decoration-color: #00af00\">1,280,000</span> │ text_vectorizati… │\n",
       "│ (<span style=\"color: #0087ff; text-decoration-color: #0087ff\">Embedding</span>)         │                   │            │                   │\n",
       "├─────────────────────┼───────────────────┼────────────┼───────────────────┤\n",
       "│ bidirectional       │ (<span style=\"color: #00d7ff; text-decoration-color: #00d7ff\">None</span>, <span style=\"color: #00af00; text-decoration-color: #00af00\">250</span>, <span style=\"color: #00af00; text-decoration-color: #00af00\">400</span>)  │    <span style=\"color: #00af00; text-decoration-color: #00af00\">526,400</span> │ embedding[<span style=\"color: #00af00; text-decoration-color: #00af00\">0</span>][<span style=\"color: #00af00; text-decoration-color: #00af00\">0</span>]   │\n",
       "│ (<span style=\"color: #0087ff; text-decoration-color: #0087ff\">Bidirectional</span>)     │                   │            │                   │\n",
       "├─────────────────────┼───────────────────┼────────────┼───────────────────┤\n",
       "│ dropout (<span style=\"color: #0087ff; text-decoration-color: #0087ff\">Dropout</span>)   │ (<span style=\"color: #00d7ff; text-decoration-color: #00d7ff\">None</span>, <span style=\"color: #00af00; text-decoration-color: #00af00\">250</span>, <span style=\"color: #00af00; text-decoration-color: #00af00\">400</span>)  │          <span style=\"color: #00af00; text-decoration-color: #00af00\">0</span> │ bidirectional[<span style=\"color: #00af00; text-decoration-color: #00af00\">0</span>]… │\n",
       "├─────────────────────┼───────────────────┼────────────┼───────────────────┤\n",
       "│ bidirectional_1     │ (<span style=\"color: #00d7ff; text-decoration-color: #00d7ff\">None</span>, <span style=\"color: #00af00; text-decoration-color: #00af00\">64</span>)        │    <span style=\"color: #00af00; text-decoration-color: #00af00\">110,848</span> │ dropout[<span style=\"color: #00af00; text-decoration-color: #00af00\">0</span>][<span style=\"color: #00af00; text-decoration-color: #00af00\">0</span>]     │\n",
       "│ (<span style=\"color: #0087ff; text-decoration-color: #0087ff\">Bidirectional</span>)     │                   │            │                   │\n",
       "├─────────────────────┼───────────────────┼────────────┼───────────────────┤\n",
       "│ dropout_1 (<span style=\"color: #0087ff; text-decoration-color: #0087ff\">Dropout</span>) │ (<span style=\"color: #00d7ff; text-decoration-color: #00d7ff\">None</span>, <span style=\"color: #00af00; text-decoration-color: #00af00\">64</span>)        │          <span style=\"color: #00af00; text-decoration-color: #00af00\">0</span> │ bidirectional_1[<span style=\"color: #00af00; text-decoration-color: #00af00\">…</span> │\n",
       "├─────────────────────┼───────────────────┼────────────┼───────────────────┤\n",
       "│ dense (<span style=\"color: #0087ff; text-decoration-color: #0087ff\">Dense</span>)       │ (<span style=\"color: #00d7ff; text-decoration-color: #00d7ff\">None</span>, <span style=\"color: #00af00; text-decoration-color: #00af00\">20</span>)        │      <span style=\"color: #00af00; text-decoration-color: #00af00\">1,300</span> │ dropout_1[<span style=\"color: #00af00; text-decoration-color: #00af00\">0</span>][<span style=\"color: #00af00; text-decoration-color: #00af00\">0</span>]   │\n",
       "├─────────────────────┼───────────────────┼────────────┼───────────────────┤\n",
       "│ IE_output (<span style=\"color: #0087ff; text-decoration-color: #0087ff\">Dense</span>)   │ (<span style=\"color: #00d7ff; text-decoration-color: #00d7ff\">None</span>, <span style=\"color: #00af00; text-decoration-color: #00af00\">1</span>)         │         <span style=\"color: #00af00; text-decoration-color: #00af00\">21</span> │ dense[<span style=\"color: #00af00; text-decoration-color: #00af00\">0</span>][<span style=\"color: #00af00; text-decoration-color: #00af00\">0</span>]       │\n",
       "├─────────────────────┼───────────────────┼────────────┼───────────────────┤\n",
       "│ NS_output (<span style=\"color: #0087ff; text-decoration-color: #0087ff\">Dense</span>)   │ (<span style=\"color: #00d7ff; text-decoration-color: #00d7ff\">None</span>, <span style=\"color: #00af00; text-decoration-color: #00af00\">1</span>)         │         <span style=\"color: #00af00; text-decoration-color: #00af00\">21</span> │ dense[<span style=\"color: #00af00; text-decoration-color: #00af00\">0</span>][<span style=\"color: #00af00; text-decoration-color: #00af00\">0</span>]       │\n",
       "├─────────────────────┼───────────────────┼────────────┼───────────────────┤\n",
       "│ TF_output (<span style=\"color: #0087ff; text-decoration-color: #0087ff\">Dense</span>)   │ (<span style=\"color: #00d7ff; text-decoration-color: #00d7ff\">None</span>, <span style=\"color: #00af00; text-decoration-color: #00af00\">1</span>)         │         <span style=\"color: #00af00; text-decoration-color: #00af00\">21</span> │ dense[<span style=\"color: #00af00; text-decoration-color: #00af00\">0</span>][<span style=\"color: #00af00; text-decoration-color: #00af00\">0</span>]       │\n",
       "├─────────────────────┼───────────────────┼────────────┼───────────────────┤\n",
       "│ JP_output (<span style=\"color: #0087ff; text-decoration-color: #0087ff\">Dense</span>)   │ (<span style=\"color: #00d7ff; text-decoration-color: #00d7ff\">None</span>, <span style=\"color: #00af00; text-decoration-color: #00af00\">1</span>)         │         <span style=\"color: #00af00; text-decoration-color: #00af00\">21</span> │ dense[<span style=\"color: #00af00; text-decoration-color: #00af00\">0</span>][<span style=\"color: #00af00; text-decoration-color: #00af00\">0</span>]       │\n",
       "└─────────────────────┴───────────────────┴────────────┴───────────────────┘\n",
       "</pre>\n"
      ],
      "text/plain": [
       "┏━━━━━━━━━━━━━━━━━━━━━┳━━━━━━━━━━━━━━━━━━━┳━━━━━━━━━━━━┳━━━━━━━━━━━━━━━━━━━┓\n",
       "┃\u001b[1m \u001b[0m\u001b[1mLayer (type)       \u001b[0m\u001b[1m \u001b[0m┃\u001b[1m \u001b[0m\u001b[1mOutput Shape     \u001b[0m\u001b[1m \u001b[0m┃\u001b[1m \u001b[0m\u001b[1m   Param #\u001b[0m\u001b[1m \u001b[0m┃\u001b[1m \u001b[0m\u001b[1mConnected to     \u001b[0m\u001b[1m \u001b[0m┃\n",
       "┡━━━━━━━━━━━━━━━━━━━━━╇━━━━━━━━━━━━━━━━━━━╇━━━━━━━━━━━━╇━━━━━━━━━━━━━━━━━━━┩\n",
       "│ input_text          │ (\u001b[38;5;45mNone\u001b[0m, \u001b[38;5;34m1\u001b[0m)         │          \u001b[38;5;34m0\u001b[0m │ -                 │\n",
       "│ (\u001b[38;5;33mInputLayer\u001b[0m)        │                   │            │                   │\n",
       "├─────────────────────┼───────────────────┼────────────┼───────────────────┤\n",
       "│ text_vectorization… │ (\u001b[38;5;45mNone\u001b[0m, \u001b[38;5;34m250\u001b[0m)       │          \u001b[38;5;34m0\u001b[0m │ input_text[\u001b[38;5;34m0\u001b[0m][\u001b[38;5;34m0\u001b[0m]  │\n",
       "│ (\u001b[38;5;33mTextVectorization\u001b[0m) │                   │            │                   │\n",
       "├─────────────────────┼───────────────────┼────────────┼───────────────────┤\n",
       "│ embedding           │ (\u001b[38;5;45mNone\u001b[0m, \u001b[38;5;34m250\u001b[0m, \u001b[38;5;34m128\u001b[0m)  │  \u001b[38;5;34m1,280,000\u001b[0m │ text_vectorizati… │\n",
       "│ (\u001b[38;5;33mEmbedding\u001b[0m)         │                   │            │                   │\n",
       "├─────────────────────┼───────────────────┼────────────┼───────────────────┤\n",
       "│ bidirectional       │ (\u001b[38;5;45mNone\u001b[0m, \u001b[38;5;34m250\u001b[0m, \u001b[38;5;34m400\u001b[0m)  │    \u001b[38;5;34m526,400\u001b[0m │ embedding[\u001b[38;5;34m0\u001b[0m][\u001b[38;5;34m0\u001b[0m]   │\n",
       "│ (\u001b[38;5;33mBidirectional\u001b[0m)     │                   │            │                   │\n",
       "├─────────────────────┼───────────────────┼────────────┼───────────────────┤\n",
       "│ dropout (\u001b[38;5;33mDropout\u001b[0m)   │ (\u001b[38;5;45mNone\u001b[0m, \u001b[38;5;34m250\u001b[0m, \u001b[38;5;34m400\u001b[0m)  │          \u001b[38;5;34m0\u001b[0m │ bidirectional[\u001b[38;5;34m0\u001b[0m]… │\n",
       "├─────────────────────┼───────────────────┼────────────┼───────────────────┤\n",
       "│ bidirectional_1     │ (\u001b[38;5;45mNone\u001b[0m, \u001b[38;5;34m64\u001b[0m)        │    \u001b[38;5;34m110,848\u001b[0m │ dropout[\u001b[38;5;34m0\u001b[0m][\u001b[38;5;34m0\u001b[0m]     │\n",
       "│ (\u001b[38;5;33mBidirectional\u001b[0m)     │                   │            │                   │\n",
       "├─────────────────────┼───────────────────┼────────────┼───────────────────┤\n",
       "│ dropout_1 (\u001b[38;5;33mDropout\u001b[0m) │ (\u001b[38;5;45mNone\u001b[0m, \u001b[38;5;34m64\u001b[0m)        │          \u001b[38;5;34m0\u001b[0m │ bidirectional_1[\u001b[38;5;34m…\u001b[0m │\n",
       "├─────────────────────┼───────────────────┼────────────┼───────────────────┤\n",
       "│ dense (\u001b[38;5;33mDense\u001b[0m)       │ (\u001b[38;5;45mNone\u001b[0m, \u001b[38;5;34m20\u001b[0m)        │      \u001b[38;5;34m1,300\u001b[0m │ dropout_1[\u001b[38;5;34m0\u001b[0m][\u001b[38;5;34m0\u001b[0m]   │\n",
       "├─────────────────────┼───────────────────┼────────────┼───────────────────┤\n",
       "│ IE_output (\u001b[38;5;33mDense\u001b[0m)   │ (\u001b[38;5;45mNone\u001b[0m, \u001b[38;5;34m1\u001b[0m)         │         \u001b[38;5;34m21\u001b[0m │ dense[\u001b[38;5;34m0\u001b[0m][\u001b[38;5;34m0\u001b[0m]       │\n",
       "├─────────────────────┼───────────────────┼────────────┼───────────────────┤\n",
       "│ NS_output (\u001b[38;5;33mDense\u001b[0m)   │ (\u001b[38;5;45mNone\u001b[0m, \u001b[38;5;34m1\u001b[0m)         │         \u001b[38;5;34m21\u001b[0m │ dense[\u001b[38;5;34m0\u001b[0m][\u001b[38;5;34m0\u001b[0m]       │\n",
       "├─────────────────────┼───────────────────┼────────────┼───────────────────┤\n",
       "│ TF_output (\u001b[38;5;33mDense\u001b[0m)   │ (\u001b[38;5;45mNone\u001b[0m, \u001b[38;5;34m1\u001b[0m)         │         \u001b[38;5;34m21\u001b[0m │ dense[\u001b[38;5;34m0\u001b[0m][\u001b[38;5;34m0\u001b[0m]       │\n",
       "├─────────────────────┼───────────────────┼────────────┼───────────────────┤\n",
       "│ JP_output (\u001b[38;5;33mDense\u001b[0m)   │ (\u001b[38;5;45mNone\u001b[0m, \u001b[38;5;34m1\u001b[0m)         │         \u001b[38;5;34m21\u001b[0m │ dense[\u001b[38;5;34m0\u001b[0m][\u001b[38;5;34m0\u001b[0m]       │\n",
       "└─────────────────────┴───────────────────┴────────────┴───────────────────┘\n"
      ]
     },
     "metadata": {},
     "output_type": "display_data"
    },
    {
     "data": {
      "text/html": [
       "<pre style=\"white-space:pre;overflow-x:auto;line-height:normal;font-family:Menlo,'DejaVu Sans Mono',consolas,'Courier New',monospace\"><span style=\"font-weight: bold\"> Total params: </span><span style=\"color: #00af00; text-decoration-color: #00af00\">1,918,632</span> (7.32 MB)\n",
       "</pre>\n"
      ],
      "text/plain": [
       "\u001b[1m Total params: \u001b[0m\u001b[38;5;34m1,918,632\u001b[0m (7.32 MB)\n"
      ]
     },
     "metadata": {},
     "output_type": "display_data"
    },
    {
     "data": {
      "text/html": [
       "<pre style=\"white-space:pre;overflow-x:auto;line-height:normal;font-family:Menlo,'DejaVu Sans Mono',consolas,'Courier New',monospace\"><span style=\"font-weight: bold\"> Trainable params: </span><span style=\"color: #00af00; text-decoration-color: #00af00\">1,918,632</span> (7.32 MB)\n",
       "</pre>\n"
      ],
      "text/plain": [
       "\u001b[1m Trainable params: \u001b[0m\u001b[38;5;34m1,918,632\u001b[0m (7.32 MB)\n"
      ]
     },
     "metadata": {},
     "output_type": "display_data"
    },
    {
     "data": {
      "text/html": [
       "<pre style=\"white-space:pre;overflow-x:auto;line-height:normal;font-family:Menlo,'DejaVu Sans Mono',consolas,'Courier New',monospace\"><span style=\"font-weight: bold\"> Non-trainable params: </span><span style=\"color: #00af00; text-decoration-color: #00af00\">0</span> (0.00 B)\n",
       "</pre>\n"
      ],
      "text/plain": [
       "\u001b[1m Non-trainable params: \u001b[0m\u001b[38;5;34m0\u001b[0m (0.00 B)\n"
      ]
     },
     "metadata": {},
     "output_type": "display_data"
    }
   ],
   "source": [
    "model.summary()"
   ]
  },
  {
   "cell_type": "code",
   "execution_count": 30,
   "id": "1fd9ddea-ecb9-4127-9acf-33a8aa8d96ea",
   "metadata": {},
   "outputs": [],
   "source": [
    "model.compile(\n",
    "    optimizer='adam',\n",
    "    loss='binary_crossentropy',\n",
    "    metrics={'IE_output': 'accuracy',\n",
    "             'NS_output': 'accuracy',\n",
    "             'TF_output': 'accuracy',\n",
    "             'JP_output': 'accuracy'}\n",
    ")"
   ]
  },
  {
   "cell_type": "code",
   "execution_count": 31,
   "id": "b9f49bc2-858b-41fc-96f6-f8679d375ede",
   "metadata": {},
   "outputs": [
    {
     "data": {
      "text/plain": [
       "7978    1\n",
       "2566    1\n",
       "1360    1\n",
       "2086    1\n",
       "1964    1\n",
       "       ..\n",
       "163     0\n",
       "4895    0\n",
       "989     0\n",
       "950     1\n",
       "8342    1\n",
       "Name: I/E, Length: 4879, dtype: int64"
      ]
     },
     "execution_count": 31,
     "metadata": {},
     "output_type": "execute_result"
    }
   ],
   "source": [
    "y_train.iloc[:,0]"
   ]
  },
  {
   "cell_type": "code",
   "execution_count": 32,
   "id": "ec6e3fea-b6a0-4bfe-9f64-4b6a6e1011cf",
   "metadata": {},
   "outputs": [
    {
     "name": "stdout",
     "output_type": "stream",
     "text": [
      "Epoch 1/20\n",
      "\u001b[1m153/153\u001b[0m \u001b[32m━━━━━━━━━━━━━━━━━━━━\u001b[0m\u001b[37m\u001b[0m \u001b[1m97s\u001b[0m 606ms/step - IE_output_accuracy: 0.7512 - IE_output_loss: 0.5763 - JP_output_accuracy: 0.5892 - JP_output_loss: 0.6798 - NS_output_accuracy: 0.8409 - NS_output_loss: 0.4593 - TF_output_accuracy: 0.5244 - TF_output_loss: 0.6981 - loss: 2.4136 - val_IE_output_accuracy: 0.7615 - val_IE_output_loss: 0.5508 - val_JP_output_accuracy: 0.5864 - val_JP_output_loss: 0.6787 - val_NS_output_accuracy: 0.8556 - val_NS_output_loss: 0.4146 - val_TF_output_accuracy: 0.5433 - val_TF_output_loss: 0.6887 - val_loss: 2.3321\n",
      "Epoch 2/20\n",
      "\u001b[1m153/153\u001b[0m \u001b[32m━━━━━━━━━━━━━━━━━━━━\u001b[0m\u001b[37m\u001b[0m \u001b[1m94s\u001b[0m 615ms/step - IE_output_accuracy: 0.7607 - IE_output_loss: 0.5504 - JP_output_accuracy: 0.6027 - JP_output_loss: 0.6675 - NS_output_accuracy: 0.8608 - NS_output_loss: 0.3956 - TF_output_accuracy: 0.5526 - TF_output_loss: 0.6845 - loss: 2.2979 - val_IE_output_accuracy: 0.7615 - val_IE_output_loss: 0.5503 - val_JP_output_accuracy: 0.5790 - val_JP_output_loss: 0.6805 - val_NS_output_accuracy: 0.8556 - val_NS_output_loss: 0.4147 - val_TF_output_accuracy: 0.5581 - val_TF_output_loss: 0.6821 - val_loss: 2.3271\n",
      "Epoch 3/20\n",
      "\u001b[1m153/153\u001b[0m \u001b[32m━━━━━━━━━━━━━━━━━━━━\u001b[0m\u001b[37m\u001b[0m \u001b[1m96s\u001b[0m 625ms/step - IE_output_accuracy: 0.7702 - IE_output_loss: 0.5056 - JP_output_accuracy: 0.6617 - JP_output_loss: 0.6073 - NS_output_accuracy: 0.8642 - NS_output_loss: 0.3535 - TF_output_accuracy: 0.6891 - TF_output_loss: 0.6003 - loss: 2.0667 - val_IE_output_accuracy: 0.7603 - val_IE_output_loss: 0.5635 - val_JP_output_accuracy: 0.5821 - val_JP_output_loss: 0.7009 - val_NS_output_accuracy: 0.8556 - val_NS_output_loss: 0.4348 - val_TF_output_accuracy: 0.5722 - val_TF_output_loss: 0.7188 - val_loss: 2.4178\n",
      "Epoch 4/20\n",
      "\u001b[1m153/153\u001b[0m \u001b[32m━━━━━━━━━━━━━━━━━━━━\u001b[0m\u001b[37m\u001b[0m \u001b[1m100s\u001b[0m 653ms/step - IE_output_accuracy: 0.8048 - IE_output_loss: 0.4229 - JP_output_accuracy: 0.7667 - JP_output_loss: 0.4958 - NS_output_accuracy: 0.8681 - NS_output_loss: 0.2991 - TF_output_accuracy: 0.7996 - TF_output_loss: 0.4599 - loss: 1.6777 - val_IE_output_accuracy: 0.6626 - val_IE_output_loss: 0.6405 - val_JP_output_accuracy: 0.5433 - val_JP_output_loss: 0.8050 - val_NS_output_accuracy: 0.8470 - val_NS_output_loss: 0.4809 - val_TF_output_accuracy: 0.5771 - val_TF_output_loss: 0.7796 - val_loss: 2.7066\n",
      "Epoch 5/20\n",
      "\u001b[1m153/153\u001b[0m \u001b[32m━━━━━━━━━━━━━━━━━━━━\u001b[0m\u001b[37m\u001b[0m \u001b[1m101s\u001b[0m 664ms/step - IE_output_accuracy: 0.8378 - IE_output_loss: 0.3592 - JP_output_accuracy: 0.8290 - JP_output_loss: 0.3887 - NS_output_accuracy: 0.8847 - NS_output_loss: 0.2471 - TF_output_accuracy: 0.8571 - TF_output_loss: 0.3451 - loss: 1.3401 - val_IE_output_accuracy: 0.7087 - val_IE_output_loss: 0.7564 - val_JP_output_accuracy: 0.5636 - val_JP_output_loss: 0.9149 - val_NS_output_accuracy: 0.8193 - val_NS_output_loss: 0.5975 - val_TF_output_accuracy: 0.5913 - val_TF_output_loss: 0.9855 - val_loss: 3.2558\n",
      "Epoch 6/20\n",
      "\u001b[1m153/153\u001b[0m \u001b[32m━━━━━━━━━━━━━━━━━━━━\u001b[0m\u001b[37m\u001b[0m \u001b[1m96s\u001b[0m 628ms/step - IE_output_accuracy: 0.8803 - IE_output_loss: 0.2856 - JP_output_accuracy: 0.8607 - JP_output_loss: 0.3201 - NS_output_accuracy: 0.9211 - NS_output_loss: 0.2003 - TF_output_accuracy: 0.9064 - TF_output_loss: 0.2472 - loss: 1.0532 - val_IE_output_accuracy: 0.6472 - val_IE_output_loss: 0.8606 - val_JP_output_accuracy: 0.5618 - val_JP_output_loss: 1.0220 - val_NS_output_accuracy: 0.7984 - val_NS_output_loss: 0.6384 - val_TF_output_accuracy: 0.5771 - val_TF_output_loss: 1.1912 - val_loss: 3.7133\n",
      "Epoch 7/20\n",
      "\u001b[1m153/153\u001b[0m \u001b[32m━━━━━━━━━━━━━━━━━━━━\u001b[0m\u001b[37m\u001b[0m \u001b[1m102s\u001b[0m 666ms/step - IE_output_accuracy: 0.9127 - IE_output_loss: 0.2354 - JP_output_accuracy: 0.8894 - JP_output_loss: 0.2618 - NS_output_accuracy: 0.9363 - NS_output_loss: 0.1606 - TF_output_accuracy: 0.9190 - TF_output_loss: 0.2187 - loss: 0.8764 - val_IE_output_accuracy: 0.6583 - val_IE_output_loss: 0.9420 - val_JP_output_accuracy: 0.5304 - val_JP_output_loss: 1.2458 - val_NS_output_accuracy: 0.7996 - val_NS_output_loss: 0.7153 - val_TF_output_accuracy: 0.5716 - val_TF_output_loss: 1.2893 - val_loss: 4.1943\n"
     ]
    }
   ],
   "source": [
    "# Early stopping\n",
    "early_stopping = EarlyStopping(monitor='val_loss', patience=5, restore_best_weights=True)\n",
    "\n",
    "# Training labels for multiple outputs\n",
    "train_labels = {'IE_output': y_train.iloc[:, 0],\n",
    "                'NS_output': y_train.iloc[:, 1],\n",
    "                'TF_output': y_train.iloc[:, 2],\n",
    "                'JP_output': y_train.iloc[:, 3]}\n",
    "\n",
    "val_labels = {'IE_output': y_val.iloc[:, 0],\n",
    "               'NS_output': y_val.iloc[:, 1],\n",
    "               'TF_output': y_val.iloc[:, 2],\n",
    "               'JP_output': y_val.iloc[:, 3]}\n",
    "\n",
    "\n",
    "# Train the model\n",
    "history = model.fit(\n",
    "    X_train, train_labels,\n",
    "    validation_data=(X_val, val_labels),\n",
    "    batch_size=32,\n",
    "    epochs=20,\n",
    "    callbacks=[early_stopping]\n",
    ")"
   ]
  },
  {
   "cell_type": "code",
   "execution_count": 39,
   "id": "5f4751e3-aecc-4dfd-a488-4e3ac79f1826",
   "metadata": {},
   "outputs": [
    {
     "name": "stdout",
     "output_type": "stream",
     "text": [
      "\u001b[1m68/68\u001b[0m \u001b[32m━━━━━━━━━━━━━━━━━━━━\u001b[0m\u001b[37m\u001b[0m \u001b[1m12s\u001b[0m 170ms/step - IE_output_accuracy: 0.7828 - IE_output_loss: 0.5243 - JP_output_accuracy: 0.6031 - JP_output_loss: 0.6667 - NS_output_accuracy: 0.8576 - NS_output_loss: 0.4122 - TF_output_accuracy: 0.5544 - TF_output_loss: 0.6892 - loss: 2.2925\n"
     ]
    },
    {
     "data": {
      "text/plain": [
       "[2.294426441192627,\n",
       " 0.5257814526557922,\n",
       " 0.4129224121570587,\n",
       " 0.6816683411598206,\n",
       " 0.6740212440490723,\n",
       " 0.7819271683692932,\n",
       " 0.5965883135795593,\n",
       " 0.8584601283073425,\n",
       " 0.5716920495033264]"
      ]
     },
     "execution_count": 39,
     "metadata": {},
     "output_type": "execute_result"
    }
   ],
   "source": [
    "test_labels = {'IE_output': y_test.iloc[:, 0],\n",
    "               'NS_output': y_test.iloc[:, 1],\n",
    "               'TF_output': y_test.iloc[:, 2],\n",
    "               'JP_output': y_test.iloc[:, 3]}\n",
    "\n",
    "model.evaluate(X_test,test_labels)"
   ]
  },
  {
   "cell_type": "code",
   "execution_count": 40,
   "id": "26c09dea-7157-458c-8959-34f4b337232c",
   "metadata": {},
   "outputs": [
    {
     "name": "stdout",
     "output_type": "stream",
     "text": [
      "y_train shape: (4879, 4)\n",
      "y_val shape: (1627, 4)\n"
     ]
    }
   ],
   "source": [
    "print(\"y_train shape:\", y_train.shape)\n",
    "print(\"y_val shape:\", y_val.shape)"
   ]
  },
  {
   "cell_type": "code",
   "execution_count": 41,
   "id": "4c828a4e-b827-4b93-a697-40c845459a2a",
   "metadata": {},
   "outputs": [],
   "source": [
    "import transformers"
   ]
  },
  {
   "cell_type": "code",
   "execution_count": 42,
   "id": "930f916a-b87d-4b98-9365-8226abc1c77c",
   "metadata": {},
   "outputs": [],
   "source": [
    "tokenizer = transformers.AutoTokenizer.from_pretrained('bert-large-uncased')"
   ]
  },
  {
   "cell_type": "code",
   "execution_count": 44,
   "id": "bef7113a-a34b-4b9f-af75-b70a02f627a0",
   "metadata": {},
   "outputs": [],
   "source": [
    "train_encodings = tokenizer(\n",
    "    list(X_train),\n",
    "    max_length= 250,\n",
    "    padding='max_length',\n",
    "    truncation=True,\n",
    "    return_tensors=\"tf\"\n",
    ")\n",
    "\n",
    "val_encodings = tokenizer(\n",
    "    list(X_val),\n",
    "    max_length=250,\n",
    "    padding='max_length',\n",
    "    truncation=True,\n",
    "    return_tensors=\"tf\"\n",
    ")\n",
    "\n",
    "# Extract inputs\n",
    "train_input_ids = train_encodings[\"input_ids\"]\n",
    "train_attention_mask = train_encodings[\"attention_mask\"]\n",
    "train_token_type_ids = train_encodings[\"token_type_ids\"]"
   ]
  },
  {
   "cell_type": "code",
   "execution_count": 51,
   "id": "2923028e-fbb7-4781-a644-f2357c5e1cf5",
   "metadata": {},
   "outputs": [
    {
     "name": "stderr",
     "output_type": "stream",
     "text": [
      "Some weights of the PyTorch model were not used when initializing the TF 2.0 model TFBertModel: ['cls.predictions.bias', 'cls.predictions.transform.LayerNorm.weight', 'cls.predictions.transform.LayerNorm.bias', 'cls.seq_relationship.bias', 'cls.predictions.transform.dense.weight', 'cls.seq_relationship.weight', 'cls.predictions.transform.dense.bias']\n",
      "- This IS expected if you are initializing TFBertModel from a PyTorch model trained on another task or with another architecture (e.g. initializing a TFBertForSequenceClassification model from a BertForPreTraining model).\n",
      "- This IS NOT expected if you are initializing TFBertModel from a PyTorch model that you expect to be exactly identical (e.g. initializing a TFBertForSequenceClassification model from a BertForSequenceClassification model).\n",
      "All the weights of TFBertModel were initialized from the PyTorch model.\n",
      "If your task is similar to the task the model of the checkpoint was trained on, you can already use TFBertModel for predictions without further training.\n"
     ]
    },
    {
     "data": {
      "text/html": [
       "<pre style=\"white-space:pre;overflow-x:auto;line-height:normal;font-family:Menlo,'DejaVu Sans Mono',consolas,'Courier New',monospace\"><span style=\"font-weight: bold\">Model: \"functional_2\"</span>\n",
       "</pre>\n"
      ],
      "text/plain": [
       "\u001b[1mModel: \"functional_2\"\u001b[0m\n"
      ]
     },
     "metadata": {},
     "output_type": "display_data"
    },
    {
     "data": {
      "text/html": [
       "<pre style=\"white-space:pre;overflow-x:auto;line-height:normal;font-family:Menlo,'DejaVu Sans Mono',consolas,'Courier New',monospace\">┏━━━━━━━━━━━━━━━━━━━━━┳━━━━━━━━━━━━━━━━━━━┳━━━━━━━━━━━━┳━━━━━━━━━━━━━━━━━━━┓\n",
       "┃<span style=\"font-weight: bold\"> Layer (type)        </span>┃<span style=\"font-weight: bold\"> Output Shape      </span>┃<span style=\"font-weight: bold\">    Param # </span>┃<span style=\"font-weight: bold\"> Connected to      </span>┃\n",
       "┡━━━━━━━━━━━━━━━━━━━━━╇━━━━━━━━━━━━━━━━━━━╇━━━━━━━━━━━━╇━━━━━━━━━━━━━━━━━━━┩\n",
       "│ input_word_ids      │ (<span style=\"color: #00d7ff; text-decoration-color: #00d7ff\">None</span>, <span style=\"color: #00af00; text-decoration-color: #00af00\">128</span>)       │          <span style=\"color: #00af00; text-decoration-color: #00af00\">0</span> │ -                 │\n",
       "│ (<span style=\"color: #0087ff; text-decoration-color: #0087ff\">InputLayer</span>)        │                   │            │                   │\n",
       "├─────────────────────┼───────────────────┼────────────┼───────────────────┤\n",
       "│ attention_mask      │ (<span style=\"color: #00d7ff; text-decoration-color: #00d7ff\">None</span>, <span style=\"color: #00af00; text-decoration-color: #00af00\">128</span>)       │          <span style=\"color: #00af00; text-decoration-color: #00af00\">0</span> │ -                 │\n",
       "│ (<span style=\"color: #0087ff; text-decoration-color: #0087ff\">InputLayer</span>)        │                   │            │                   │\n",
       "├─────────────────────┼───────────────────┼────────────┼───────────────────┤\n",
       "│ token_type_ids      │ (<span style=\"color: #00d7ff; text-decoration-color: #00d7ff\">None</span>, <span style=\"color: #00af00; text-decoration-color: #00af00\">128</span>)       │          <span style=\"color: #00af00; text-decoration-color: #00af00\">0</span> │ -                 │\n",
       "│ (<span style=\"color: #0087ff; text-decoration-color: #0087ff\">InputLayer</span>)        │                   │            │                   │\n",
       "├─────────────────────┼───────────────────┼────────────┼───────────────────┤\n",
       "│ bert_layer_1        │ (<span style=\"color: #00d7ff; text-decoration-color: #00d7ff\">None</span>, <span style=\"color: #00af00; text-decoration-color: #00af00\">128</span>, <span style=\"color: #00af00; text-decoration-color: #00af00\">1024</span>) │          <span style=\"color: #00af00; text-decoration-color: #00af00\">0</span> │ input_word_ids[<span style=\"color: #00af00; text-decoration-color: #00af00\">0</span>… │\n",
       "│ (<span style=\"color: #0087ff; text-decoration-color: #0087ff\">BertLayer</span>)         │                   │            │ attention_mask[<span style=\"color: #00af00; text-decoration-color: #00af00\">0</span>… │\n",
       "│                     │                   │            │ token_type_ids[<span style=\"color: #00af00; text-decoration-color: #00af00\">0</span>… │\n",
       "├─────────────────────┼───────────────────┼────────────┼───────────────────┤\n",
       "│ get_item_1          │ (<span style=\"color: #00d7ff; text-decoration-color: #00d7ff\">None</span>, <span style=\"color: #00af00; text-decoration-color: #00af00\">1024</span>)      │          <span style=\"color: #00af00; text-decoration-color: #00af00\">0</span> │ bert_layer_1[<span style=\"color: #00af00; text-decoration-color: #00af00\">0</span>][<span style=\"color: #00af00; text-decoration-color: #00af00\">…</span> │\n",
       "│ (<span style=\"color: #0087ff; text-decoration-color: #0087ff\">GetItem</span>)           │                   │            │                   │\n",
       "├─────────────────────┼───────────────────┼────────────┼───────────────────┤\n",
       "│ dropout_3 (<span style=\"color: #0087ff; text-decoration-color: #0087ff\">Dropout</span>) │ (<span style=\"color: #00d7ff; text-decoration-color: #00d7ff\">None</span>, <span style=\"color: #00af00; text-decoration-color: #00af00\">1024</span>)      │          <span style=\"color: #00af00; text-decoration-color: #00af00\">0</span> │ get_item_1[<span style=\"color: #00af00; text-decoration-color: #00af00\">0</span>][<span style=\"color: #00af00; text-decoration-color: #00af00\">0</span>]  │\n",
       "├─────────────────────┼───────────────────┼────────────┼───────────────────┤\n",
       "│ IE_output (<span style=\"color: #0087ff; text-decoration-color: #0087ff\">Dense</span>)   │ (<span style=\"color: #00d7ff; text-decoration-color: #00d7ff\">None</span>, <span style=\"color: #00af00; text-decoration-color: #00af00\">1</span>)         │      <span style=\"color: #00af00; text-decoration-color: #00af00\">1,025</span> │ dropout_3[<span style=\"color: #00af00; text-decoration-color: #00af00\">0</span>][<span style=\"color: #00af00; text-decoration-color: #00af00\">0</span>]   │\n",
       "├─────────────────────┼───────────────────┼────────────┼───────────────────┤\n",
       "│ NS_output (<span style=\"color: #0087ff; text-decoration-color: #0087ff\">Dense</span>)   │ (<span style=\"color: #00d7ff; text-decoration-color: #00d7ff\">None</span>, <span style=\"color: #00af00; text-decoration-color: #00af00\">1</span>)         │      <span style=\"color: #00af00; text-decoration-color: #00af00\">1,025</span> │ dropout_3[<span style=\"color: #00af00; text-decoration-color: #00af00\">0</span>][<span style=\"color: #00af00; text-decoration-color: #00af00\">0</span>]   │\n",
       "├─────────────────────┼───────────────────┼────────────┼───────────────────┤\n",
       "│ TF_output (<span style=\"color: #0087ff; text-decoration-color: #0087ff\">Dense</span>)   │ (<span style=\"color: #00d7ff; text-decoration-color: #00d7ff\">None</span>, <span style=\"color: #00af00; text-decoration-color: #00af00\">1</span>)         │      <span style=\"color: #00af00; text-decoration-color: #00af00\">1,025</span> │ dropout_3[<span style=\"color: #00af00; text-decoration-color: #00af00\">0</span>][<span style=\"color: #00af00; text-decoration-color: #00af00\">0</span>]   │\n",
       "├─────────────────────┼───────────────────┼────────────┼───────────────────┤\n",
       "│ JP_output (<span style=\"color: #0087ff; text-decoration-color: #0087ff\">Dense</span>)   │ (<span style=\"color: #00d7ff; text-decoration-color: #00d7ff\">None</span>, <span style=\"color: #00af00; text-decoration-color: #00af00\">1</span>)         │      <span style=\"color: #00af00; text-decoration-color: #00af00\">1,025</span> │ dropout_3[<span style=\"color: #00af00; text-decoration-color: #00af00\">0</span>][<span style=\"color: #00af00; text-decoration-color: #00af00\">0</span>]   │\n",
       "└─────────────────────┴───────────────────┴────────────┴───────────────────┘\n",
       "</pre>\n"
      ],
      "text/plain": [
       "┏━━━━━━━━━━━━━━━━━━━━━┳━━━━━━━━━━━━━━━━━━━┳━━━━━━━━━━━━┳━━━━━━━━━━━━━━━━━━━┓\n",
       "┃\u001b[1m \u001b[0m\u001b[1mLayer (type)       \u001b[0m\u001b[1m \u001b[0m┃\u001b[1m \u001b[0m\u001b[1mOutput Shape     \u001b[0m\u001b[1m \u001b[0m┃\u001b[1m \u001b[0m\u001b[1m   Param #\u001b[0m\u001b[1m \u001b[0m┃\u001b[1m \u001b[0m\u001b[1mConnected to     \u001b[0m\u001b[1m \u001b[0m┃\n",
       "┡━━━━━━━━━━━━━━━━━━━━━╇━━━━━━━━━━━━━━━━━━━╇━━━━━━━━━━━━╇━━━━━━━━━━━━━━━━━━━┩\n",
       "│ input_word_ids      │ (\u001b[38;5;45mNone\u001b[0m, \u001b[38;5;34m128\u001b[0m)       │          \u001b[38;5;34m0\u001b[0m │ -                 │\n",
       "│ (\u001b[38;5;33mInputLayer\u001b[0m)        │                   │            │                   │\n",
       "├─────────────────────┼───────────────────┼────────────┼───────────────────┤\n",
       "│ attention_mask      │ (\u001b[38;5;45mNone\u001b[0m, \u001b[38;5;34m128\u001b[0m)       │          \u001b[38;5;34m0\u001b[0m │ -                 │\n",
       "│ (\u001b[38;5;33mInputLayer\u001b[0m)        │                   │            │                   │\n",
       "├─────────────────────┼───────────────────┼────────────┼───────────────────┤\n",
       "│ token_type_ids      │ (\u001b[38;5;45mNone\u001b[0m, \u001b[38;5;34m128\u001b[0m)       │          \u001b[38;5;34m0\u001b[0m │ -                 │\n",
       "│ (\u001b[38;5;33mInputLayer\u001b[0m)        │                   │            │                   │\n",
       "├─────────────────────┼───────────────────┼────────────┼───────────────────┤\n",
       "│ bert_layer_1        │ (\u001b[38;5;45mNone\u001b[0m, \u001b[38;5;34m128\u001b[0m, \u001b[38;5;34m1024\u001b[0m) │          \u001b[38;5;34m0\u001b[0m │ input_word_ids[\u001b[38;5;34m0\u001b[0m… │\n",
       "│ (\u001b[38;5;33mBertLayer\u001b[0m)         │                   │            │ attention_mask[\u001b[38;5;34m0\u001b[0m… │\n",
       "│                     │                   │            │ token_type_ids[\u001b[38;5;34m0\u001b[0m… │\n",
       "├─────────────────────┼───────────────────┼────────────┼───────────────────┤\n",
       "│ get_item_1          │ (\u001b[38;5;45mNone\u001b[0m, \u001b[38;5;34m1024\u001b[0m)      │          \u001b[38;5;34m0\u001b[0m │ bert_layer_1[\u001b[38;5;34m0\u001b[0m][\u001b[38;5;34m…\u001b[0m │\n",
       "│ (\u001b[38;5;33mGetItem\u001b[0m)           │                   │            │                   │\n",
       "├─────────────────────┼───────────────────┼────────────┼───────────────────┤\n",
       "│ dropout_3 (\u001b[38;5;33mDropout\u001b[0m) │ (\u001b[38;5;45mNone\u001b[0m, \u001b[38;5;34m1024\u001b[0m)      │          \u001b[38;5;34m0\u001b[0m │ get_item_1[\u001b[38;5;34m0\u001b[0m][\u001b[38;5;34m0\u001b[0m]  │\n",
       "├─────────────────────┼───────────────────┼────────────┼───────────────────┤\n",
       "│ IE_output (\u001b[38;5;33mDense\u001b[0m)   │ (\u001b[38;5;45mNone\u001b[0m, \u001b[38;5;34m1\u001b[0m)         │      \u001b[38;5;34m1,025\u001b[0m │ dropout_3[\u001b[38;5;34m0\u001b[0m][\u001b[38;5;34m0\u001b[0m]   │\n",
       "├─────────────────────┼───────────────────┼────────────┼───────────────────┤\n",
       "│ NS_output (\u001b[38;5;33mDense\u001b[0m)   │ (\u001b[38;5;45mNone\u001b[0m, \u001b[38;5;34m1\u001b[0m)         │      \u001b[38;5;34m1,025\u001b[0m │ dropout_3[\u001b[38;5;34m0\u001b[0m][\u001b[38;5;34m0\u001b[0m]   │\n",
       "├─────────────────────┼───────────────────┼────────────┼───────────────────┤\n",
       "│ TF_output (\u001b[38;5;33mDense\u001b[0m)   │ (\u001b[38;5;45mNone\u001b[0m, \u001b[38;5;34m1\u001b[0m)         │      \u001b[38;5;34m1,025\u001b[0m │ dropout_3[\u001b[38;5;34m0\u001b[0m][\u001b[38;5;34m0\u001b[0m]   │\n",
       "├─────────────────────┼───────────────────┼────────────┼───────────────────┤\n",
       "│ JP_output (\u001b[38;5;33mDense\u001b[0m)   │ (\u001b[38;5;45mNone\u001b[0m, \u001b[38;5;34m1\u001b[0m)         │      \u001b[38;5;34m1,025\u001b[0m │ dropout_3[\u001b[38;5;34m0\u001b[0m][\u001b[38;5;34m0\u001b[0m]   │\n",
       "└─────────────────────┴───────────────────┴────────────┴───────────────────┘\n"
      ]
     },
     "metadata": {},
     "output_type": "display_data"
    },
    {
     "data": {
      "text/html": [
       "<pre style=\"white-space:pre;overflow-x:auto;line-height:normal;font-family:Menlo,'DejaVu Sans Mono',consolas,'Courier New',monospace\"><span style=\"font-weight: bold\"> Total params: </span><span style=\"color: #00af00; text-decoration-color: #00af00\">4,100</span> (16.02 KB)\n",
       "</pre>\n"
      ],
      "text/plain": [
       "\u001b[1m Total params: \u001b[0m\u001b[38;5;34m4,100\u001b[0m (16.02 KB)\n"
      ]
     },
     "metadata": {},
     "output_type": "display_data"
    },
    {
     "data": {
      "text/html": [
       "<pre style=\"white-space:pre;overflow-x:auto;line-height:normal;font-family:Menlo,'DejaVu Sans Mono',consolas,'Courier New',monospace\"><span style=\"font-weight: bold\"> Trainable params: </span><span style=\"color: #00af00; text-decoration-color: #00af00\">4,100</span> (16.02 KB)\n",
       "</pre>\n"
      ],
      "text/plain": [
       "\u001b[1m Trainable params: \u001b[0m\u001b[38;5;34m4,100\u001b[0m (16.02 KB)\n"
      ]
     },
     "metadata": {},
     "output_type": "display_data"
    },
    {
     "data": {
      "text/html": [
       "<pre style=\"white-space:pre;overflow-x:auto;line-height:normal;font-family:Menlo,'DejaVu Sans Mono',consolas,'Courier New',monospace\"><span style=\"font-weight: bold\"> Non-trainable params: </span><span style=\"color: #00af00; text-decoration-color: #00af00\">0</span> (0.00 B)\n",
       "</pre>\n"
      ],
      "text/plain": [
       "\u001b[1m Non-trainable params: \u001b[0m\u001b[38;5;34m0\u001b[0m (0.00 B)\n"
      ]
     },
     "metadata": {},
     "output_type": "display_data"
    }
   ],
   "source": [
    "import tensorflow as tf\n",
    "from tensorflow.keras import layers\n",
    "from transformers import TFBertModel\n",
    "\n",
    "# Define a custom layer to wrap TFBertModel\n",
    "class BertLayer(layers.Layer):\n",
    "    def __init__(self, pretrained_model_name, **kwargs):\n",
    "        super(BertLayer, self).__init__(**kwargs)\n",
    "        self.bert = TFBertModel.from_pretrained(pretrained_model_name)\n",
    "\n",
    "    def call(self, inputs):\n",
    "        input_ids, attention_mask, token_type_ids = inputs\n",
    "        outputs = self.bert(\n",
    "            input_ids=input_ids,\n",
    "            attention_mask=attention_mask,\n",
    "            token_type_ids=token_type_ids,\n",
    "        )\n",
    "        return outputs.last_hidden_state  # Return the last hidden state\n",
    "\n",
    "# Constants\n",
    "max_length = 128\n",
    "\n",
    "# Define input layers\n",
    "input_word_ids = tf.keras.layers.Input(shape=(max_length,), dtype=tf.int32, name=\"input_word_ids\")\n",
    "attention_mask = tf.keras.layers.Input(shape=(max_length,), dtype=tf.int32, name=\"attention_mask\")\n",
    "token_type_ids = tf.keras.layers.Input(shape=(max_length,), dtype=tf.int32, name=\"token_type_ids\")\n",
    "\n",
    "# Add BertLayer\n",
    "bert_outputs = BertLayer(pretrained_model_name='bert-large-uncased')(\n",
    "    [input_word_ids, attention_mask, token_type_ids]\n",
    ")\n",
    "\n",
    "# Use the CLS token for classification tasks\n",
    "cls_token_output = bert_outputs[:, 0, :]\n",
    "\n",
    "# Add additional layers\n",
    "dropout = tf.keras.layers.Dropout(0.2)(cls_token_output)\n",
    "output_IE = tf.keras.layers.Dense(1, activation='sigmoid', name='IE_output')(dropout)\n",
    "output_NS = tf.keras.layers.Dense(1, activation='sigmoid', name='NS_output')(dropout)\n",
    "output_TF = tf.keras.layers.Dense(1, activation='sigmoid', name='TF_output')(dropout)\n",
    "output_JP = tf.keras.layers.Dense(1, activation='sigmoid', name='JP_output')(dropout)\n",
    "\n",
    "# Build and compile the model\n",
    "model = tf.keras.Model(\n",
    "    inputs=[input_word_ids, attention_mask, token_type_ids],\n",
    "    outputs=[output_IE, output_NS, output_TF, output_JP],\n",
    ")\n",
    "\n",
    "model.compile(\n",
    "    optimizer=tf.keras.optimizers.Adam(learning_rate=3e-5),\n",
    "    loss='binary_crossentropy',\n",
    "    metrics={'IE_output': 'accuracy',\n",
    "             'NS_output': 'accuracy',\n",
    "             'TF_output': 'accuracy',\n",
    "             'JP_output': 'accuracy'},\n",
    ")\n",
    "\n",
    "model.summary()\n"
   ]
  },
  {
   "cell_type": "code",
   "execution_count": 52,
   "id": "44351c27-94c7-4373-a53e-374ae1dfd3cd",
   "metadata": {},
   "outputs": [],
   "source": [
    "def tokenize_texts(texts, tokenizer, max_length=128):\n",
    "    tokenized_data = tokenizer(\n",
    "        list(texts),\n",
    "        max_length=max_length,\n",
    "        padding='max_length',\n",
    "        truncation=True,\n",
    "        return_tensors='np'  # Use NumPy for easier manipulation\n",
    "    )\n",
    "    return tokenized_data['input_ids'], tokenized_data['attention_mask'], tokenized_data['token_type_ids']\n",
    "\n",
    "# Tokenize the datasets\n",
    "max_length = 128\n",
    "X_train_input_ids, X_train_attention_mask, X_train_token_type_ids = tokenize_texts(X_train, tokenizer, max_length)\n",
    "X_val_input_ids, X_val_attention_mask, X_val_token_type_ids = tokenize_texts(X_val, tokenizer, max_length)\n",
    "X_test_input_ids, X_test_attention_mask, X_test_token_type_ids = tokenize_texts(X_test, tokenizer, max_length)"
   ]
  },
  {
   "cell_type": "code",
   "execution_count": 53,
   "id": "abbeb41b-fbf6-4b1a-83e6-94334473ec37",
   "metadata": {},
   "outputs": [],
   "source": [
    "# Training inputs\n",
    "X_train_inputs = {\n",
    "    \"input_word_ids\": X_train_input_ids,\n",
    "    \"attention_mask\": X_train_attention_mask,\n",
    "    \"token_type_ids\": X_train_token_type_ids,\n",
    "}\n",
    "\n",
    "# Validation inputs\n",
    "X_val_inputs = {\n",
    "    \"input_word_ids\": X_val_input_ids,\n",
    "    \"attention_mask\": X_val_attention_mask,\n",
    "    \"token_type_ids\": X_val_token_type_ids,\n",
    "}\n",
    "\n",
    "# Testing inputs\n",
    "X_test_inputs = {\n",
    "    \"input_word_ids\": X_test_input_ids,\n",
    "    \"attention_mask\": X_test_attention_mask,\n",
    "    \"token_type_ids\": X_test_token_type_ids,\n",
    "}\n",
    "\n",
    "train_labels = {'IE_output': y_train.iloc[:, 0],\n",
    "                'NS_output': y_train.iloc[:, 1],\n",
    "                'TF_output': y_train.iloc[:, 2],\n",
    "                'JP_output': y_train.iloc[:, 3]}\n",
    "\n",
    "val_labels = {'IE_output': y_val.iloc[:, 0],\n",
    "               'NS_output': y_val.iloc[:, 1],\n",
    "               'TF_output': y_val.iloc[:, 2],\n",
    "               'JP_output': y_val.iloc[:, 3]}"
   ]
  },
  {
   "cell_type": "code",
   "execution_count": 54,
   "id": "032dbb9a-0caa-45f0-ad3b-55dabfcd1185",
   "metadata": {},
   "outputs": [
    {
     "name": "stdout",
     "output_type": "stream",
     "text": [
      "Epoch 1/5\n",
      "\u001b[1m153/153\u001b[0m \u001b[32m━━━━━━━━━━━━━━━━━━━━\u001b[0m\u001b[37m\u001b[0m \u001b[1m1978s\u001b[0m 13s/step - IE_output_accuracy: 0.6250 - IE_output_loss: 0.6409 - JP_output_accuracy: 0.5960 - JP_output_loss: 0.7135 - NS_output_accuracy: 0.8656 - NS_output_loss: 0.4235 - TF_output_accuracy: 0.4930 - TF_output_loss: 0.7455 - loss: 2.5235 - val_IE_output_accuracy: 0.7615 - val_IE_output_loss: 0.5512 - val_JP_output_accuracy: 0.5833 - val_JP_output_loss: 0.6885 - val_NS_output_accuracy: 0.8556 - val_NS_output_loss: 0.4193 - val_TF_output_accuracy: 0.5372 - val_TF_output_loss: 0.6910 - val_loss: 2.3493\n",
      "Epoch 2/5\n",
      "\u001b[1m153/153\u001b[0m \u001b[32m━━━━━━━━━━━━━━━━━━━━\u001b[0m\u001b[37m\u001b[0m \u001b[1m2111s\u001b[0m 14s/step - IE_output_accuracy: 0.7585 - IE_output_loss: 0.5623 - JP_output_accuracy: 0.5684 - JP_output_loss: 0.6992 - NS_output_accuracy: 0.8654 - NS_output_loss: 0.4107 - TF_output_accuracy: 0.5172 - TF_output_loss: 0.7144 - loss: 2.3866 - val_IE_output_accuracy: 0.7615 - val_IE_output_loss: 0.5483 - val_JP_output_accuracy: 0.5833 - val_JP_output_loss: 0.6859 - val_NS_output_accuracy: 0.8556 - val_NS_output_loss: 0.4203 - val_TF_output_accuracy: 0.5433 - val_TF_output_loss: 0.6889 - val_loss: 2.3427\n",
      "Epoch 3/5\n",
      "\u001b[1m153/153\u001b[0m \u001b[32m━━━━━━━━━━━━━━━━━━━━\u001b[0m\u001b[37m\u001b[0m \u001b[1m1982s\u001b[0m 13s/step - IE_output_accuracy: 0.7530 - IE_output_loss: 0.5704 - JP_output_accuracy: 0.5743 - JP_output_loss: 0.6951 - NS_output_accuracy: 0.8596 - NS_output_loss: 0.4186 - TF_output_accuracy: 0.5158 - TF_output_loss: 0.7183 - loss: 2.4024 - val_IE_output_accuracy: 0.7615 - val_IE_output_loss: 0.5481 - val_JP_output_accuracy: 0.5845 - val_JP_output_loss: 0.6869 - val_NS_output_accuracy: 0.8556 - val_NS_output_loss: 0.4202 - val_TF_output_accuracy: 0.5495 - val_TF_output_loss: 0.6871 - val_loss: 2.3415\n",
      "Epoch 4/5\n",
      "\u001b[1m153/153\u001b[0m \u001b[32m━━━━━━━━━━━━━━━━━━━━\u001b[0m\u001b[37m\u001b[0m \u001b[1m1989s\u001b[0m 13s/step - IE_output_accuracy: 0.7679 - IE_output_loss: 0.5488 - JP_output_accuracy: 0.5547 - JP_output_loss: 0.7072 - NS_output_accuracy: 0.8624 - NS_output_loss: 0.4169 - TF_output_accuracy: 0.5212 - TF_output_loss: 0.7112 - loss: 2.3840 - val_IE_output_accuracy: 0.7615 - val_IE_output_loss: 0.5476 - val_JP_output_accuracy: 0.5833 - val_JP_output_loss: 0.6853 - val_NS_output_accuracy: 0.8556 - val_NS_output_loss: 0.4192 - val_TF_output_accuracy: 0.5507 - val_TF_output_loss: 0.6853 - val_loss: 2.3368\n",
      "Epoch 5/5\n",
      "\u001b[1m153/153\u001b[0m \u001b[32m━━━━━━━━━━━━━━━━━━━━\u001b[0m\u001b[37m\u001b[0m \u001b[1m2012s\u001b[0m 13s/step - IE_output_accuracy: 0.7664 - IE_output_loss: 0.5449 - JP_output_accuracy: 0.5510 - JP_output_loss: 0.7068 - NS_output_accuracy: 0.8579 - NS_output_loss: 0.4208 - TF_output_accuracy: 0.5155 - TF_output_loss: 0.7186 - loss: 2.3911 - val_IE_output_accuracy: 0.7615 - val_IE_output_loss: 0.5470 - val_JP_output_accuracy: 0.5796 - val_JP_output_loss: 0.6838 - val_NS_output_accuracy: 0.8556 - val_NS_output_loss: 0.4194 - val_TF_output_accuracy: 0.5636 - val_TF_output_loss: 0.6837 - val_loss: 2.3331\n"
     ]
    }
   ],
   "source": [
    "history = model.fit(\n",
    "    X_train_inputs,\n",
    "    train_labels,\n",
    "    validation_data=(\n",
    "        X_val_inputs,\n",
    "       val_labels,\n",
    "    ),\n",
    "    batch_size=32,\n",
    "    epochs=5,\n",
    ")"
   ]
  },
  {
   "cell_type": "code",
   "execution_count": 58,
   "id": "8b336ce3-d74a-4f67-b2cd-cf690a6cac10",
   "metadata": {},
   "outputs": [
    {
     "name": "stdout",
     "output_type": "stream",
     "text": [
      "\u001b[1m68/68\u001b[0m \u001b[32m━━━━━━━━━━━━━━━━━━━━\u001b[0m\u001b[37m\u001b[0m \u001b[1m652s\u001b[0m 10s/step - IE_output_accuracy: 0.7828 - IE_output_loss: 0.5216 - JP_output_accuracy: 0.6201 - JP_output_loss: 0.6641 - NS_output_accuracy: 0.8576 - NS_output_loss: 0.4133 - TF_output_accuracy: 0.5426 - TF_output_loss: 0.6868 - loss: 2.2858\n"
     ]
    },
    {
     "data": {
      "text/plain": [
       "[2.288877010345459,\n",
       " 0.5227404236793518,\n",
       " 0.4101163446903229,\n",
       " 0.6862896680831909,\n",
       " 0.6693678498268127,\n",
       " 0.7819271683692932,\n",
       " 0.6058091521263123,\n",
       " 0.8584601283073425,\n",
       " 0.5541724562644958]"
      ]
     },
     "execution_count": 58,
     "metadata": {},
     "output_type": "execute_result"
    }
   ],
   "source": [
    "test_labels = {'IE_output': y_test.iloc[:, 0],\n",
    "               'NS_output': y_test.iloc[:, 1],\n",
    "               'TF_output': y_test.iloc[:, 2],\n",
    "               'JP_output': y_test.iloc[:, 3]}\n",
    "\n",
    "\n",
    "model.evaluate(X_test_inputs, test_labels)"
   ]
  },
  {
   "cell_type": "code",
   "execution_count": 59,
   "id": "938ed13b-d23b-4a8a-8a09-0308602aaee2",
   "metadata": {},
   "outputs": [],
   "source": [
    "model.save(\"bert_model.keras\")"
   ]
  },
  {
   "cell_type": "code",
   "execution_count": null,
   "id": "d666f227-ebc3-440e-a19a-463076389f14",
   "metadata": {},
   "outputs": [],
   "source": []
  }
 ],
 "metadata": {
  "kernelspec": {
   "display_name": "Python 3 (ipykernel)",
   "language": "python",
   "name": "python3"
  },
  "language_info": {
   "codemirror_mode": {
    "name": "ipython",
    "version": 3
   },
   "file_extension": ".py",
   "mimetype": "text/x-python",
   "name": "python",
   "nbconvert_exporter": "python",
   "pygments_lexer": "ipython3",
   "version": "3.12.3"
  }
 },
 "nbformat": 4,
 "nbformat_minor": 5
}
